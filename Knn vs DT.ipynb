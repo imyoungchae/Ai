{
 "cells": [
  {
   "cell_type": "code",
   "execution_count": 119,
   "id": "7db91653",
   "metadata": {},
   "outputs": [],
   "source": [
    "import os\n",
    "import numpy as np\n",
    "import pandas as pd\n",
    "\n",
    "import matplotlib.pyplot as plt\n",
    "import seaborn as sns\n",
    "%matplotlib inline\n",
    "\n",
    "from sklearn.datasets import load_breast_cancer\n",
    "from sklearn.model_selection import train_test_split\n",
    "from sklearn.tree import DecisionTreeClassifier as DT\n",
    "from sklearn.metrics import confusion_matrix,accuracy_score, recall_score, precision_score, f1_score, balanced_accuracy_score\n",
    "\n",
    "import seaborn as sns"
   ]
  },
  {
   "cell_type": "code",
   "execution_count": 30,
   "id": "08e198e0",
   "metadata": {},
   "outputs": [],
   "source": [
    "breast=load_breast_cancer()"
   ]
  },
  {
   "cell_type": "code",
   "execution_count": 31,
   "id": "693cd198",
   "metadata": {},
   "outputs": [],
   "source": [
    "X=pd.DataFrame(breast['data'],columns=breast.feature_names)"
   ]
  },
  {
   "cell_type": "code",
   "execution_count": 32,
   "id": "2727864b",
   "metadata": {},
   "outputs": [],
   "source": [
    "Y=breast['target']"
   ]
  },
  {
   "cell_type": "code",
   "execution_count": 33,
   "id": "8ee578b3",
   "metadata": {},
   "outputs": [],
   "source": [
    "#np.unique(Y,return_counts=True)"
   ]
  },
  {
   "cell_type": "code",
   "execution_count": 34,
   "id": "eda30444",
   "metadata": {},
   "outputs": [],
   "source": [
    "tr_x,ts_x,tr_y,dt_ts_y=train_test_split(X,Y,test_size=0.2,random_state=20220518)"
   ]
  },
  {
   "cell_type": "code",
   "execution_count": 35,
   "id": "55264625",
   "metadata": {},
   "outputs": [],
   "source": [
    "dt=DT()"
   ]
  },
  {
   "cell_type": "code",
   "execution_count": 36,
   "id": "eb7332da",
   "metadata": {},
   "outputs": [
    {
     "data": {
      "text/plain": [
       "DecisionTreeClassifier()"
      ]
     },
     "execution_count": 36,
     "metadata": {},
     "output_type": "execute_result"
    }
   ],
   "source": [
    "dt.fit(tr_x,tr_y)"
   ]
  },
  {
   "cell_type": "code",
   "execution_count": 37,
   "id": "d62e0faa",
   "metadata": {},
   "outputs": [],
   "source": [
    "pred_proba=dt.predict_proba(tr_x)"
   ]
  },
  {
   "cell_type": "code",
   "execution_count": 38,
   "id": "a55080f8",
   "metadata": {},
   "outputs": [],
   "source": [
    "pred_proba_test=dt.predict_proba(ts_x)"
   ]
  },
  {
   "cell_type": "code",
   "execution_count": 39,
   "id": "ff64e414",
   "metadata": {},
   "outputs": [
    {
     "data": {
      "text/plain": [
       "array([1, 0, 0, 1, 1, 0, 1, 0, 0, 1, 0, 0, 0, 1, 0, 1, 0, 0, 1, 0, 0, 1,\n",
       "       1, 1, 1, 1, 0, 1, 1, 0, 0, 0, 1, 1, 0, 0, 1, 1, 1, 0, 0, 0, 1, 1,\n",
       "       1, 0, 0, 0, 0, 1, 0, 0, 0, 1, 1, 1, 0, 1, 1, 0, 0, 0, 1, 1, 0, 1,\n",
       "       1, 1, 0, 1, 0, 1, 1, 1, 0, 0, 1, 1, 1, 0, 1, 1, 0, 1, 0, 1, 0, 1,\n",
       "       1, 1, 1, 1, 1, 1, 1, 1, 0, 0, 1, 1, 1, 1, 1, 1, 1, 1, 0, 1, 1, 1,\n",
       "       1, 1, 1, 1, 0, 1, 1, 0, 1, 1, 1, 1, 0, 0, 1, 1, 0, 1, 0, 1, 1, 0,\n",
       "       0, 1, 1, 0, 0, 0, 0, 0, 0, 0, 1, 0, 1, 1, 1, 0, 0, 1, 1, 0, 1, 1,\n",
       "       1, 1, 1, 1, 0, 1, 0, 0, 0, 1, 1, 1, 0, 1, 1, 0, 1, 1, 1, 1, 1, 1,\n",
       "       0, 1, 1, 1, 0, 0, 0, 1, 0, 0, 1, 1, 0, 1, 0, 1, 1, 1, 0, 1, 1, 1,\n",
       "       1, 1, 1, 1, 0, 1, 0, 1, 1, 0, 1, 1, 1, 1, 1, 1, 1, 1, 1, 1, 0, 0,\n",
       "       1, 0, 1, 1, 0, 1, 0, 1, 1, 1, 0, 1, 1, 0, 1, 1, 0, 1, 1, 0, 1, 1,\n",
       "       0, 1, 0, 1, 1, 1, 0, 1, 1, 1, 1, 1, 0, 1, 0, 1, 1, 1, 1, 1, 1, 0,\n",
       "       1, 1, 1, 1, 1, 0, 0, 1, 1, 1, 1, 1, 0, 1, 1, 0, 1, 0, 0, 0, 0, 1,\n",
       "       0, 1, 1, 1, 1, 1, 0, 1, 1, 0, 1, 1, 1, 1, 1, 0, 1, 1, 1, 1, 1, 1,\n",
       "       1, 1, 0, 1, 0, 1, 1, 1, 1, 0, 0, 0, 0, 1, 0, 0, 0, 1, 1, 1, 1, 0,\n",
       "       1, 1, 0, 0, 0, 1, 1, 1, 1, 0, 0, 1, 1, 1, 1, 0, 1, 1, 1, 1, 1, 0,\n",
       "       0, 1, 1, 1, 1, 1, 0, 1, 0, 0, 0, 1, 0, 1, 1, 1, 1, 0, 1, 0, 0, 1,\n",
       "       0, 1, 1, 0, 0, 1, 0, 0, 1, 0, 1, 1, 1, 0, 1, 0, 1, 1, 0, 1, 0, 1,\n",
       "       1, 0, 0, 0, 1, 0, 0, 1, 1, 1, 0, 1, 1, 0, 0, 1, 0, 1, 0, 1, 0, 1,\n",
       "       1, 0, 1, 1, 1, 0, 1, 1, 0, 0, 1, 1, 1, 1, 1, 1, 0, 1, 1, 0, 1, 0,\n",
       "       1, 0, 0, 1, 1, 1, 1, 1, 0, 0, 0, 0, 1, 1, 0])"
      ]
     },
     "execution_count": 39,
     "metadata": {},
     "output_type": "execute_result"
    }
   ],
   "source": [
    "dt.predict(tr_x)"
   ]
  },
  {
   "cell_type": "code",
   "execution_count": 40,
   "id": "3b6145b9",
   "metadata": {},
   "outputs": [],
   "source": [
    "dt_pred_y=dt.predict(ts_x)"
   ]
  },
  {
   "cell_type": "code",
   "execution_count": 41,
   "id": "3f949044",
   "metadata": {},
   "outputs": [],
   "source": [
    "dt_tr_pred_y=dt.predict(tr_x)"
   ]
  },
  {
   "cell_type": "code",
   "execution_count": 42,
   "id": "0464da6f",
   "metadata": {},
   "outputs": [
    {
     "data": {
      "text/plain": [
       "array([[39,  3],\n",
       "       [ 3, 69]], dtype=int64)"
      ]
     },
     "execution_count": 42,
     "metadata": {},
     "output_type": "execute_result"
    }
   ],
   "source": [
    "confusion_matrix(y_true=dt_ts_y, y_pred=dt_pred_y, labels=[0,1])"
   ]
  },
  {
   "cell_type": "code",
   "execution_count": 43,
   "id": "19f770e0",
   "metadata": {},
   "outputs": [],
   "source": [
    "dt_acc=accuracy_score(y_true=dt_ts_y, y_pred=dt_pred_y)\n",
    "dt_recall=recall_score(y_true=dt_ts_y, y_pred=dt_pred_y, pos_label=0)\n",
    "dt_precision=precision_score(y_true=dt_ts_y, y_pred=dt_pred_y,pos_label=0)\n",
    "dt_f1=f1_score(y_true=dt_ts_y, y_pred=dt_pred_y,pos_label=0)\n",
    "dt_balanc=balanced_accuracy_score(y_true=dt_ts_y, y_pred=dt_pred_y)"
   ]
  },
  {
   "cell_type": "code",
   "execution_count": 44,
   "id": "8496f2ef",
   "metadata": {},
   "outputs": [
    {
     "name": "stdout",
     "output_type": "stream",
     "text": [
      "dt_acc=0.947, dt_recall=0.929, dt_precision=0.929, dt_f1=0.929, dt_balanc=0.943\n"
     ]
    }
   ],
   "source": [
    "print('dt_acc={:.3f}, dt_recall={:.3f}, dt_precision={:.3f}, dt_f1={:.3f}, dt_balanc={:.3f}'.format(dt_acc,dt_recall,dt_precision,dt_f1,dt_balanc))"
   ]
  },
  {
   "cell_type": "code",
   "execution_count": 45,
   "id": "81287f62",
   "metadata": {},
   "outputs": [],
   "source": [
    "from sklearn.neighbors import KNeighborsClassifier \n",
    "from sklearn.datasets import make_classification"
   ]
  },
  {
   "cell_type": "code",
   "execution_count": 57,
   "id": "06dbbc54",
   "metadata": {},
   "outputs": [],
   "source": [
    "tr_x,ts_x,tr_y,knn_ts_y=train_test_split(X,Y,test_size=0.2,random_state=20220518)"
   ]
  },
  {
   "cell_type": "code",
   "execution_count": 58,
   "id": "56aa2f6d",
   "metadata": {},
   "outputs": [],
   "source": [
    "KNN = KNeighborsClassifier()"
   ]
  },
  {
   "cell_type": "code",
   "execution_count": 59,
   "id": "229fb9f1",
   "metadata": {},
   "outputs": [],
   "source": [
    "tr_x,ts_x,tr_y,knn_ts_y=train_test_split(X,Y,test_size=0.2,random_state=20220518)"
   ]
  },
  {
   "cell_type": "code",
   "execution_count": 60,
   "id": "c002215a",
   "metadata": {},
   "outputs": [
    {
     "data": {
      "text/plain": [
       "KNeighborsClassifier()"
      ]
     },
     "execution_count": 60,
     "metadata": {},
     "output_type": "execute_result"
    }
   ],
   "source": [
    "KNN.fit(tr_x,tr_y)"
   ]
  },
  {
   "cell_type": "code",
   "execution_count": 61,
   "id": "615c8a9d",
   "metadata": {},
   "outputs": [
    {
     "data": {
      "text/plain": [
       "array([1, 0, 0, 1, 1, 0, 1, 0, 0, 1, 0, 0, 0, 1, 0, 1, 0, 0, 1, 0, 0, 1,\n",
       "       1, 1, 1, 0, 0, 1, 1, 1, 0, 0, 1, 1, 0, 0, 1, 1, 1, 0, 0, 0, 1, 1,\n",
       "       1, 1, 0, 0, 0, 1, 0, 0, 0, 1, 1, 1, 0, 1, 1, 0, 0, 0, 1, 1, 0, 1,\n",
       "       1, 1, 0, 1, 0, 1, 1, 1, 0, 0, 1, 1, 1, 0, 1, 1, 0, 1, 1, 1, 0, 1,\n",
       "       1, 1, 1, 1, 1, 1, 1, 1, 0, 0, 1, 1, 1, 1, 1, 1, 1, 1, 0, 1, 1, 1,\n",
       "       1, 1, 1, 1, 0, 1, 1, 0, 1, 1, 1, 1, 0, 0, 1, 1, 0, 1, 0, 1, 1, 0,\n",
       "       0, 1, 1, 0, 0, 1, 0, 0, 0, 0, 1, 0, 1, 1, 1, 0, 0, 0, 1, 0, 1, 1,\n",
       "       1, 1, 1, 1, 0, 1, 0, 0, 0, 1, 1, 1, 1, 1, 1, 0, 1, 1, 1, 1, 1, 1,\n",
       "       0, 1, 1, 1, 0, 0, 0, 1, 0, 0, 1, 1, 1, 1, 0, 1, 1, 1, 0, 1, 1, 1,\n",
       "       1, 1, 1, 1, 0, 1, 0, 1, 1, 0, 1, 1, 1, 1, 1, 1, 0, 1, 1, 1, 0, 0,\n",
       "       1, 0, 1, 1, 0, 1, 0, 1, 1, 1, 0, 1, 1, 0, 1, 1, 0, 0, 1, 0, 1, 1,\n",
       "       0, 1, 0, 1, 1, 1, 0, 1, 1, 1, 1, 1, 0, 1, 0, 1, 1, 1, 1, 1, 1, 0,\n",
       "       1, 1, 1, 1, 1, 0, 1, 1, 1, 1, 1, 1, 0, 1, 0, 0, 1, 0, 0, 0, 0, 1,\n",
       "       0, 1, 1, 1, 1, 1, 0, 1, 1, 0, 1, 1, 1, 1, 1, 0, 1, 1, 1, 1, 1, 1,\n",
       "       1, 1, 0, 1, 0, 1, 1, 1, 1, 0, 0, 0, 0, 1, 0, 0, 0, 1, 1, 1, 1, 0,\n",
       "       1, 1, 0, 0, 0, 1, 1, 1, 1, 0, 0, 1, 1, 1, 1, 0, 1, 1, 1, 1, 1, 0,\n",
       "       1, 1, 1, 1, 1, 1, 0, 1, 1, 0, 0, 1, 0, 1, 1, 1, 1, 1, 1, 0, 0, 1,\n",
       "       0, 1, 1, 0, 0, 1, 0, 0, 1, 0, 1, 1, 1, 0, 1, 0, 1, 1, 0, 1, 1, 1,\n",
       "       1, 0, 0, 1, 1, 0, 0, 1, 1, 1, 0, 1, 1, 0, 0, 1, 0, 1, 0, 1, 1, 1,\n",
       "       1, 1, 1, 1, 1, 0, 1, 1, 0, 0, 1, 1, 1, 1, 1, 1, 0, 1, 1, 0, 1, 0,\n",
       "       1, 0, 0, 1, 1, 1, 1, 1, 0, 1, 0, 0, 1, 0, 0])"
      ]
     },
     "execution_count": 61,
     "metadata": {},
     "output_type": "execute_result"
    }
   ],
   "source": [
    "KNN.predict(tr_x)"
   ]
  },
  {
   "cell_type": "code",
   "execution_count": 62,
   "id": "6f1552d5",
   "metadata": {},
   "outputs": [],
   "source": [
    "knn_pred_y=KNN.predict(tr_x)"
   ]
  },
  {
   "cell_type": "code",
   "execution_count": 63,
   "id": "fa95bc76",
   "metadata": {},
   "outputs": [],
   "source": [
    "knn_tr_pred_y=KNN.predict(ts_x)"
   ]
  },
  {
   "cell_type": "code",
   "execution_count": 66,
   "id": "6f484943",
   "metadata": {},
   "outputs": [],
   "source": [
    "knn_acc=accuracy_score(y_true=knn_ts_y, y_pred=knn_tr_pred_y)\n",
    "knn_recall=recall_score(y_true=knn_ts_y, y_pred=knn_tr_pred_y, pos_label=0)\n",
    "knn_precision=precision_score(y_true=knn_ts_y, y_pred=knn_tr_pred_y,pos_label=0)\n",
    "knn_f1=f1_score(y_true=knn_ts_y, y_pred=knn_tr_pred_y,pos_label=0)\n",
    "knn_balanc=balanced_accuracy_score(y_true=knn_ts_y, y_pred=knn_tr_pred_y)"
   ]
  },
  {
   "cell_type": "code",
   "execution_count": 68,
   "id": "e216e87d",
   "metadata": {},
   "outputs": [
    {
     "name": "stdout",
     "output_type": "stream",
     "text": [
      "knn_acc=0.904, knn_recall=0.833, knn_precision=0.897, knn_f1=0.864, knn_balanc=0.889\n"
     ]
    }
   ],
   "source": [
    "print('knn_acc={:.3f}, knn_recall={:.3f}, knn_precision={:.3f}, knn_f1={:.3f}, knn_balanc={:.3f}'.format(knn_acc,knn_recall,knn_precision,knn_f1,knn_balanc))"
   ]
  },
  {
   "cell_type": "code",
   "execution_count": 69,
   "id": "b01a4eda",
   "metadata": {},
   "outputs": [],
   "source": [
    "from sklearn import neighbors"
   ]
  },
  {
   "cell_type": "code",
   "execution_count": 71,
   "id": "3ba467ca",
   "metadata": {},
   "outputs": [],
   "source": [
    "#최적의 모델로 만들기 위해\n",
    "k_set=[1,3,5,7,9]\n",
    "knn_f1_set=[]\n",
    "for k in k_set:\n",
    "    knn=KNeighborsClassifier(n_neighbors=k)\n",
    "    knn.fit(tr_x,tr_y)\n",
    "    knn_pred=knn.predict(ts_x)\n",
    "    knn_f1_set.append(f1_score(y_true=knn_ts_y,y_pred=knn_pred))"
   ]
  },
  {
   "cell_type": "code",
   "execution_count": 72,
   "id": "0ec56ad0",
   "metadata": {},
   "outputs": [],
   "source": [
    "best_k=k_set[np.argmax(knn_f1_set)]"
   ]
  },
  {
   "cell_type": "code",
   "execution_count": 73,
   "id": "7f552592",
   "metadata": {},
   "outputs": [
    {
     "data": {
      "text/plain": [
       "1"
      ]
     },
     "execution_count": 73,
     "metadata": {},
     "output_type": "execute_result"
    }
   ],
   "source": [
    "best_k"
   ]
  },
  {
   "cell_type": "code",
   "execution_count": 80,
   "id": "98071505",
   "metadata": {},
   "outputs": [],
   "source": [
    "depth_set=[3,5,7,9]\n",
    "dt_f1_set=[]\n",
    "for depth in depth_set:\n",
    "    dt=DT(max_depth=depth)\n",
    "    dt.fit(tr_x,tr_y)\n",
    "    dt_pred_y=dt.predict(ts_x)\n",
    "    dt_f1_set.append(f1_score(y_true=dt_ts_y,y_pred=dt_pred_y))"
   ]
  },
  {
   "cell_type": "code",
   "execution_count": 81,
   "id": "f09d0f7e",
   "metadata": {},
   "outputs": [],
   "source": [
    "best_depth=depth_set[np.argmax(dt_f1_set)]"
   ]
  },
  {
   "cell_type": "code",
   "execution_count": 82,
   "id": "a08f4f6d",
   "metadata": {},
   "outputs": [
    {
     "data": {
      "text/plain": [
       "7"
      ]
     },
     "execution_count": 82,
     "metadata": {},
     "output_type": "execute_result"
    }
   ],
   "source": [
    "best_depth"
   ]
  },
  {
   "cell_type": "code",
   "execution_count": 83,
   "id": "ab1b898e",
   "metadata": {},
   "outputs": [],
   "source": [
    "import matplotlib.pyplot as plt\n",
    "%matplotlib inline"
   ]
  },
  {
   "cell_type": "code",
   "execution_count": 84,
   "id": "c2076cec",
   "metadata": {},
   "outputs": [
    {
     "data": {
      "text/plain": [
       "[<matplotlib.lines.Line2D at 0x1f038317e20>]"
      ]
     },
     "execution_count": 84,
     "metadata": {},
     "output_type": "execute_result"
    },
    {
     "data": {
      "image/png": "[encoded data removed]",
      "text/plain": [
       "<Figure size 432x288 with 1 Axes>"
      ]
     },
     "metadata": {
      "needs_background": "light"
     },
     "output_type": "display_data"
    }
   ],
   "source": [
    "plt.plot(k_set,knn_f1_set)\n",
    "plt.plot(depth_set,dt_f1_set)"
   ]
  },
  {
   "cell_type": "code",
   "execution_count": 85,
   "id": "0f0f83ce",
   "metadata": {},
   "outputs": [],
   "source": [
    "best_dt=DT(max_depth=best_depth)\n",
    "best_knn=KNeighborsClassifier(n_neighbors=best_k)"
   ]
  },
  {
   "cell_type": "code",
   "execution_count": 86,
   "id": "3e87587c",
   "metadata": {},
   "outputs": [
    {
     "data": {
      "text/plain": [
       "DecisionTreeClassifier(max_depth=7)"
      ]
     },
     "execution_count": 86,
     "metadata": {},
     "output_type": "execute_result"
    }
   ],
   "source": [
    "best_dt.fit(tr_x,tr_y)"
   ]
  },
  {
   "cell_type": "code",
   "execution_count": 87,
   "id": "fe27caea",
   "metadata": {},
   "outputs": [
    {
     "data": {
      "text/plain": [
       "KNeighborsClassifier(n_neighbors=1)"
      ]
     },
     "execution_count": 87,
     "metadata": {},
     "output_type": "execute_result"
    }
   ],
   "source": [
    "best_knn.fit(tr_x,tr_y)"
   ]
  },
  {
   "cell_type": "code",
   "execution_count": 88,
   "id": "783ae2b9",
   "metadata": {},
   "outputs": [],
   "source": [
    "best_dt_pred_y=best_dt.predict(ts_x)"
   ]
  },
  {
   "cell_type": "code",
   "execution_count": 92,
   "id": "7add1305",
   "metadata": {},
   "outputs": [],
   "source": [
    "best_knn_pred_y=best_knn.predict(ts_x)"
   ]
  },
  {
   "cell_type": "code",
   "execution_count": 93,
   "id": "31b73292",
   "metadata": {},
   "outputs": [],
   "source": [
    "best_dt_acc=accuracy_score(y_true=dt_ts_y, y_pred=best_dt_pred_y)\n",
    "best_dt_recall=recall_score(y_true=dt_ts_y, y_pred=best_dt_pred_y, pos_label=0)\n",
    "best_dt_precision=precision_score(y_true=dt_ts_y, y_pred=best_dt_pred_y,pos_label=0)\n",
    "best_dt_f1=f1_score(y_true=dt_ts_y, y_pred=dt_pred_y,pos_label=0)\n",
    "best_dt_balanc=balanced_accuracy_score(y_true=dt_ts_y, y_pred=best_dt_pred_y)"
   ]
  },
  {
   "cell_type": "code",
   "execution_count": 99,
   "id": "23314b2b",
   "metadata": {},
   "outputs": [
    {
     "name": "stdout",
     "output_type": "stream",
     "text": [
      "dt_acc=0.956, dt_recall=0.976, dt_precision=0.911, dt_f1=0.920, dt_balanc=0.960\n"
     ]
    }
   ],
   "source": [
    "print('dt_acc={:.3f}, dt_recall={:.3f}, dt_precision={:.3f}, dt_f1={:.3f}, dt_balanc={:.3f}'.format(best_dt_acc,best_dt_recall,best_dt_precision,best_dt_f1,best_dt_balanc))"
   ]
  },
  {
   "cell_type": "code",
   "execution_count": 95,
   "id": "7983e99d",
   "metadata": {},
   "outputs": [],
   "source": [
    "best_knn_acc=accuracy_score(y_true=knn_ts_y, y_pred=best_knn_pred_y)\n",
    "best_knn_recall=recall_score(y_true=knn_ts_y, y_pred=best_knn_pred_y, pos_label=0)\n",
    "best_knn_precision=precision_score(y_true=knn_ts_y, y_pred=best_knn_pred_y,pos_label=0)\n",
    "best_knn_f1=f1_score(y_true=knn_ts_y, y_pred=best_knn_pred_y,pos_label=0)\n",
    "best_knn_balanc=balanced_accuracy_score(y_true=knn_ts_y, y_pred=best_knn_pred_y)"
   ]
  },
  {
   "cell_type": "code",
   "execution_count": 100,
   "id": "e06dc2cd",
   "metadata": {},
   "outputs": [
    {
     "name": "stdout",
     "output_type": "stream",
     "text": [
      "knn_acc=0.912, knn_recall=0.857, knn_precision=0.900, knn_f1=0.878, knn_balanc=0.901\n"
     ]
    }
   ],
   "source": [
    "print('knn_acc={:.3f}, knn_recall={:.3f}, knn_precision={:.3f}, knn_f1={:.3f}, knn_balanc={:.3f}'.format(best_knn_acc,best_knn_recall,best_knn_precision,best_knn_f1,best_knn_balanc))"
   ]
  },
  {
   "cell_type": "code",
   "execution_count": 96,
   "id": "aaff5eeb",
   "metadata": {},
   "outputs": [],
   "source": [
    "from sklearn import tree"
   ]
  },
  {
   "cell_type": "code",
   "execution_count": 103,
   "id": "e2633749",
   "metadata": {},
   "outputs": [],
   "source": [
    "from sklearn.tree import DecisionTreeClassifier"
   ]
  },
  {
   "cell_type": "code",
   "execution_count": 112,
   "id": "83f86686",
   "metadata": {},
   "outputs": [
    {
     "ename": "AttributeError",
     "evalue": "'DecisionTreeClassifier' object has no attribute 'feature_names'",
     "output_type": "error",
     "traceback": [
      "\u001b[1;31m---------------------------------------------------------------------------\u001b[0m",
      "\u001b[1;31mAttributeError\u001b[0m                            Traceback (most recent call last)",
      "Input \u001b[1;32mIn [112]\u001b[0m, in \u001b[0;36m<cell line: 2>\u001b[1;34m()\u001b[0m\n\u001b[0;32m      1\u001b[0m \u001b[38;5;66;03m#fig-plt.figure(figsize-(25,20))\u001b[39;00m\n\u001b[0;32m      2\u001b[0m tree\u001b[38;5;241m.\u001b[39mplot_tree(\u001b[43mbest_dt\u001b[49m\u001b[38;5;241;43m.\u001b[39;49m\n\u001b[1;32m----> 3\u001b[0m \u001b[43m               \u001b[49m\u001b[43mfeature_names\u001b[49m\u001b[38;5;241m-\u001b[39mbreast[\u001b[38;5;124m'\u001b[39m\u001b[38;5;124mfeature_names\u001b[39m\u001b[38;5;124m'\u001b[39m],\n\u001b[0;32m      4\u001b[0m                class_names\u001b[38;5;241m-\u001b[39mbreast[\u001b[38;5;124m'\u001b[39m\u001b[38;5;124mtarget_names\u001b[39m\u001b[38;5;124m'\u001b[39m],\n\u001b[0;32m      5\u001b[0m                tilled\u001b[38;5;241m-\u001b[39m\u001b[38;5;28;01mTrue\u001b[39;00m)\n",
      "\u001b[1;31mAttributeError\u001b[0m: 'DecisionTreeClassifier' object has no attribute 'feature_names'"
     ]
    }
   ],
   "source": [
    "#fig-plt.figure(figsize-(25,20))\n",
    "tree.plot_tree(best_dt.\n",
    "               feature_names-breast['feature_names'],\n",
    "               class_names-breast['target_names'],\n",
    "               tilled-True)"
   ]
  },
  {
   "cell_type": "code",
   "execution_count": 123,
   "id": "157863fb",
   "metadata": {},
   "outputs": [
    {
     "data": {
      "text/plain": [
       "[Text(0.58, 0.9285714285714286, 'X[20] <= 16.795\\ngini = 0.468\\nsamples = 455\\nvalue = [170, 285]'),\n",
       " Text(0.36, 0.7857142857142857, 'X[27] <= 0.136\\ngini = 0.147\\nsamples = 301\\nvalue = [24, 277]'),\n",
       " Text(0.16, 0.6428571428571429, 'X[29] <= 0.055\\ngini = 0.03\\nsamples = 264\\nvalue = [4, 260]'),\n",
       " Text(0.12, 0.5, 'gini = 0.0\\nsamples = 1\\nvalue = [1, 0]'),\n",
       " Text(0.2, 0.5, 'X[23] <= 785.75\\ngini = 0.023\\nsamples = 263\\nvalue = [3, 260]'),\n",
       " Text(0.08, 0.35714285714285715, 'X[21] <= 33.35\\ngini = 0.008\\nsamples = 249\\nvalue = [1, 248]'),\n",
       " Text(0.04, 0.21428571428571427, 'gini = 0.0\\nsamples = 232\\nvalue = [0, 232]'),\n",
       " Text(0.12, 0.21428571428571427, 'X[21] <= 33.56\\ngini = 0.111\\nsamples = 17\\nvalue = [1, 16]'),\n",
       " Text(0.08, 0.07142857142857142, 'gini = 0.0\\nsamples = 1\\nvalue = [1, 0]'),\n",
       " Text(0.16, 0.07142857142857142, 'gini = 0.0\\nsamples = 16\\nvalue = [0, 16]'),\n",
       " Text(0.32, 0.35714285714285715, 'X[17] <= 0.017\\ngini = 0.245\\nsamples = 14\\nvalue = [2, 12]'),\n",
       " Text(0.28, 0.21428571428571427, 'X[2] <= 88.7\\ngini = 0.142\\nsamples = 13\\nvalue = [1, 12]'),\n",
       " Text(0.24, 0.07142857142857142, 'gini = 0.0\\nsamples = 1\\nvalue = [1, 0]'),\n",
       " Text(0.32, 0.07142857142857142, 'gini = 0.0\\nsamples = 12\\nvalue = [0, 12]'),\n",
       " Text(0.36, 0.21428571428571427, 'gini = 0.0\\nsamples = 1\\nvalue = [1, 0]'),\n",
       " Text(0.56, 0.6428571428571429, 'X[1] <= 20.3\\ngini = 0.497\\nsamples = 37\\nvalue = [20, 17]'),\n",
       " Text(0.52, 0.5, 'X[23] <= 811.1\\ngini = 0.386\\nsamples = 23\\nvalue = [6, 17]'),\n",
       " Text(0.48, 0.35714285714285715, 'X[28] <= 0.358\\ngini = 0.255\\nsamples = 20\\nvalue = [3, 17]'),\n",
       " Text(0.44, 0.21428571428571427, 'gini = 0.0\\nsamples = 16\\nvalue = [0, 16]'),\n",
       " Text(0.52, 0.21428571428571427, 'X[22] <= 78.63\\ngini = 0.375\\nsamples = 4\\nvalue = [3, 1]'),\n",
       " Text(0.48, 0.07142857142857142, 'gini = 0.0\\nsamples = 1\\nvalue = [0, 1]'),\n",
       " Text(0.56, 0.07142857142857142, 'gini = 0.0\\nsamples = 3\\nvalue = [3, 0]'),\n",
       " Text(0.56, 0.35714285714285715, 'gini = 0.0\\nsamples = 3\\nvalue = [3, 0]'),\n",
       " Text(0.6, 0.5, 'gini = 0.0\\nsamples = 14\\nvalue = [14, 0]'),\n",
       " Text(0.8, 0.7857142857142857, 'X[1] <= 14.99\\ngini = 0.098\\nsamples = 154\\nvalue = [146, 8]'),\n",
       " Text(0.72, 0.6428571428571429, 'X[15] <= 0.021\\ngini = 0.444\\nsamples = 9\\nvalue = [3, 6]'),\n",
       " Text(0.68, 0.5, 'gini = 0.0\\nsamples = 6\\nvalue = [0, 6]'),\n",
       " Text(0.76, 0.5, 'gini = 0.0\\nsamples = 3\\nvalue = [3, 0]'),\n",
       " Text(0.88, 0.6428571428571429, 'X[10] <= 0.19\\ngini = 0.027\\nsamples = 145\\nvalue = [143, 2]'),\n",
       " Text(0.84, 0.5, 'gini = 0.0\\nsamples = 1\\nvalue = [0, 1]'),\n",
       " Text(0.92, 0.5, 'X[24] <= 0.088\\ngini = 0.014\\nsamples = 144\\nvalue = [143, 1]'),\n",
       " Text(0.88, 0.35714285714285715, 'gini = 0.0\\nsamples = 1\\nvalue = [0, 1]'),\n",
       " Text(0.96, 0.35714285714285715, 'gini = 0.0\\nsamples = 143\\nvalue = [143, 0]')]"
      ]
     },
     "execution_count": 123,
     "metadata": {},
     "output_type": "execute_result"
    },
    {
     "data": {
      "image/png": "[encoded data removed]",
      "text/plain": [
       "<Figure size 1440x1800 with 1 Axes>"
      ]
     },
     "metadata": {
      "needs_background": "light"
     },
     "output_type": "display_data"
    }
   ],
   "source": [
    "plt.figure(figsize=(20,25))  # set plot size (denoted in inches)\n",
    "tree.plot_tree(best_dt, fontsize=15)\n",
    "tree.plot_tree(best_dt)"
   ]
  },
  {
   "cell_type": "code",
   "execution_count": null,
   "id": "6bc5306f",
   "metadata": {},
   "outputs": [],
   "source": []
  },
  {
   "cell_type": "code",
   "execution_count": null,
   "id": "ee32d1c8",
   "metadata": {},
   "outputs": [],
   "source": []
  }
 ],
 "metadata": {
  "kernelspec": {
   "display_name": "yc",
   "language": "python",
   "name": "yc"
  },
  "language_info": {
   "codemirror_mode": {
    "name": "ipython",
    "version": 3
   },
   "file_extension": ".py",
   "mimetype": "text/x-python",
   "name": "python",
   "nbconvert_exporter": "python",
   "pygments_lexer": "ipython3",
   "version": "3.10.0"
  }
 },
 "nbformat": 4,
 "nbformat_minor": 5
}
