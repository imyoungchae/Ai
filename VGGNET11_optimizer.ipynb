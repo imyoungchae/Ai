{
  "cells": [
    {
      "cell_type": "markdown",
      "metadata": {
        "id": "view-in-github",
        "colab_type": "text"
      },
      "source": [
        "<a href=\"https://colab.research.google.com/github/imyoungchae/Ai/blob/main/VGGNET11_optimizer.ipynb\" target=\"_parent\"><img src=\"https://colab.research.google.com/assets/colab-badge.svg\" alt=\"Open In Colab\"/></a>"
      ]
    },
    {
      "cell_type": "markdown",
      "source": [
        "# 라이브러리 불러오기"
      ],
      "metadata": {
        "id": "urTgFG729Y5c"
      }
    },
    {
      "cell_type": "code",
      "source": [
        "import os \n",
        "from skimage import io, transform\n",
        "import pandas as pd\n",
        "import numpy as np\n",
        "import random\n",
        "import seaborn as sns\n",
        "import matplotlib.pyplot as plt \n",
        "from tqdm import tqdm\n",
        "\n",
        "import torch\n",
        "import torch.optim as optim\n",
        "import torch.nn as nn\n",
        "import torch.nn.init\n",
        "import torch.nn.functional as F\n",
        "import torchvision.datasets  as ds\n",
        "import torchvision.transforms  as tf\n",
        "from torchvision.transforms import ToTensor, ToPILImage\n",
        "from torchvision.datasets import ImageFolder\n",
        "from torch.utils.data import Dataset, DataLoader\n",
        "from torchvision import transforms, utils,models\n",
        "\n",
        "from tensorflow.keras.preprocessing.image import load_img, img_to_array\n",
        "from torchvision import transforms"
      ],
      "metadata": {
        "id": "ehizLrpl9ecS"
      },
      "execution_count": 23,
      "outputs": []
    },
    {
      "cell_type": "code",
      "source": [
        "device = torch.device(\"cuda:0\" if torch.cuda.is_available() else \"cpu\")"
      ],
      "metadata": {
        "id": "RmPC0NIO8GuS"
      },
      "execution_count": 24,
      "outputs": []
    },
    {
      "cell_type": "code",
      "source": [
        "from google.colab import drive\n",
        "drive.mount('/content/drive')"
      ],
      "metadata": {
        "colab": {
          "base_uri": "https://localhost:8080/"
        },
        "id": "F7K6ZSyv9eqB",
        "outputId": "2559588e-ad00-4cdd-b5bf-45ddaf796476"
      },
      "execution_count": 25,
      "outputs": [
        {
          "output_type": "stream",
          "name": "stdout",
          "text": [
            "Drive already mounted at /content/drive; to attempt to forcibly remount, call drive.mount(\"/content/drive\", force_remount=True).\n"
          ]
        }
      ]
    },
    {
      "cell_type": "markdown",
      "source": [
        "# 데이터 레이블 처리"
      ],
      "metadata": {
        "id": "KFBClfyh08-S"
      }
    },
    {
      "cell_type": "code",
      "execution_count": 26,
      "metadata": {
        "id": "zfGZrv0hjAZ6"
      },
      "outputs": [],
      "source": [
        "images_folder = '/content/drive/MyDrive/img3'\n",
        "train_img =pd.read_csv('/content/drive/MyDrive/train_data1.csv')\n",
        "test_img =pd.read_csv('/content/drive/MyDrive/test_data.csv')\n",
        "#images_title = os.listdir(images_folder)\n",
        "#images_title.sort()\n"
      ]
    },
    {
      "cell_type": "code",
      "source": [
        "from google.colab import drive\n",
        "drive.mount('/content/drive')"
      ],
      "metadata": {
        "id": "28_mYixcPI9K",
        "colab": {
          "base_uri": "https://localhost:8080/"
        },
        "outputId": "93ef97fe-15c8-42c0-819f-c2c3dedd581b"
      },
      "execution_count": 27,
      "outputs": [
        {
          "output_type": "stream",
          "name": "stdout",
          "text": [
            "Drive already mounted at /content/drive; to attempt to forcibly remount, call drive.mount(\"/content/drive\", force_remount=True).\n"
          ]
        }
      ]
    },
    {
      "cell_type": "code",
      "execution_count": 28,
      "metadata": {
        "id": "wTzCEBp4jApq"
      },
      "outputs": [],
      "source": [
        "# N(비녹지): 0, S(반녹지): 1, G(녹지): 2\n",
        "train_label = []\n",
        "test_label = []\n",
        "\n",
        "for i in train_img['0']:\n",
        "    if 'non_green_space' in i:\n",
        "        train_label.append(0)\n",
        "\n",
        "    elif 'green_space_and_road' in i:\n",
        "        train_label.append(1)\n",
        "\n",
        "    elif 'green_space_and_etc' in i:\n",
        "        train_label.append(1)\n",
        "\n",
        "    elif 'green_space' in i:\n",
        "        train_label.append(2)\n",
        "\n",
        "\n",
        "for i in test_img['0']:\n",
        "    if 'non_green_space' in i:\n",
        "        test_label.append(0)\n",
        "\n",
        "    elif 'green_space_and_road' in i:\n",
        "        test_label.append(1)\n",
        "\n",
        "    elif 'green_space_and_etc' in i:\n",
        "        test_label.append(1)\n",
        "\n",
        "    elif 'green_space' in i:\n",
        "        test_label.append(2) "
      ]
    },
    {
      "cell_type": "code",
      "source": [
        "train_data = pd.DataFrame(\n",
        "    {'image': train_img['0'], \n",
        "    'label': train_label})\n",
        "\n",
        "test_data = pd.DataFrame(\n",
        "    {'image': test_img['0'], \n",
        "    'label': test_label})"
      ],
      "metadata": {
        "id": "APLrSAlnAcpu"
      },
      "execution_count": 29,
      "outputs": []
    },
    {
      "cell_type": "code",
      "execution_count": 30,
      "metadata": {
        "id": "p-gokAgCt-E6"
      },
      "outputs": [],
      "source": [
        "train_data_sf = train_data.sample(frac = 1).reset_index(drop = True)\n",
        "test_data_sf = test_data.sample(frac = 1).reset_index(drop = True)"
      ]
    },
    {
      "cell_type": "markdown",
      "source": [
        "# 데이터 분리 및 전처리"
      ],
      "metadata": {
        "id": "cN4t0ZYpRdW-"
      }
    },
    {
      "cell_type": "code",
      "source": [
        "class ForestDataset(Dataset):\n",
        "\n",
        "    def __init__(self, dataframe, root_dir, transform = None):\n",
        "\n",
        "        self.dataframe = dataframe\n",
        "        self.root_dir = root_dir\n",
        "        self.transform = transform\n",
        "\n",
        "    def __len__(self):\n",
        "        return len(self.dataframe)\n",
        "\n",
        "    def __getitem__(self, idx):\n",
        "        if torch.is_tensor(idx):\n",
        "            idx = idx.tolist()\n",
        "\n",
        "        img_name = os.path.join(self.root_dir, \n",
        "                                self.dataframe.iloc[idx,0])\n",
        "        image = io.imread(img_name)\n",
        "        \n",
        "        label = self.dataframe.iloc[idx,1]\n",
        "        \n",
        "        if self.transform:\n",
        "\n",
        "            image = self.transform(image)\n",
        "\n",
        "\n",
        "        sample = {'image': image, 'label': label}\n",
        "        return image, label"
      ],
      "metadata": {
        "id": "Jw5tXTV6ivzM"
      },
      "execution_count": 31,
      "outputs": []
    },
    {
      "cell_type": "code",
      "source": [
        "train_data_sf = train_data_sf[:350]\n",
        "test_data_sf = test_data_sf[:150]"
      ],
      "metadata": {
        "id": "gNP54XfdBmXe"
      },
      "execution_count": 32,
      "outputs": []
    },
    {
      "cell_type": "code",
      "source": [
        "import seaborn as sns\n",
        "\n",
        "sns.countplot(x = 'label', data = train_data_sf)\n",
        "plt.title(\"Train data\")\n",
        "plt.show()\n"
      ],
      "metadata": {
        "colab": {
          "base_uri": "https://localhost:8080/",
          "height": 295
        },
        "id": "Ux7thvnk0GmS",
        "outputId": "8f59b21f-c8a3-47fb-ea00-c5a9f081e6ab"
      },
      "execution_count": 33,
      "outputs": [
        {
          "output_type": "display_data",
          "data": {
            "text/plain": [
              "<Figure size 432x288 with 1 Axes>"
            ],
            "image/png": "[encoded data removed]"
          },
          "metadata": {
            "needs_background": "light"
          }
        }
      ]
    },
    {
      "cell_type": "code",
      "source": [
        "sns.countplot(x = 'label', data = test_data_sf)\n",
        "plt.title(\"Test data\")\n",
        "plt.show()"
      ],
      "metadata": {
        "colab": {
          "base_uri": "https://localhost:8080/",
          "height": 295
        },
        "id": "vaKe1rLlBKXb",
        "outputId": "80a99890-990c-4503-f2bf-d068cc71742f"
      },
      "execution_count": 34,
      "outputs": [
        {
          "output_type": "display_data",
          "data": {
            "text/plain": [
              "<Figure size 432x288 with 1 Axes>"
            ],
            "image/png": "[encoded data removed]"
          },
          "metadata": {
            "needs_background": "light"
          }
        }
      ]
    },
    {
      "cell_type": "code",
      "source": [
        "print('train의 개수: {}'.format(len(train_data_sf)))\n",
        "print('test의 개수: {}'.format(len(test_data_sf)))"
      ],
      "metadata": {
        "colab": {
          "base_uri": "https://localhost:8080/"
        },
        "id": "W4xpEK6jrF8D",
        "outputId": "8d999527-1720-44e0-d8d7-385626b12792"
      },
      "execution_count": 35,
      "outputs": [
        {
          "output_type": "stream",
          "name": "stdout",
          "text": [
            "train의 개수: 350\n",
            "test의 개수: 150\n"
          ]
        }
      ]
    },
    {
      "cell_type": "code",
      "source": [
        "data_transform = transforms.Compose([\n",
        "    transforms.ToPILImage(),\n",
        "    transforms.Resize(128),\n",
        "    transforms.ToTensor(),\n",
        "    #transforms.Normalize(mean=(0.5, 0.5, 0.5), std = (0.5, 0.5, 0.5))\n",
        "])"
      ],
      "metadata": {
        "id": "fQJ4Wl85ivw5"
      },
      "execution_count": 36,
      "outputs": []
    },
    {
      "cell_type": "code",
      "source": [
        "train_dataset = ForestDataset(dataframe = train_data_sf, \n",
        "                              root_dir = images_folder, \n",
        "                              transform = data_transform)\n",
        "\n",
        "test_dataset = ForestDataset(dataframe = test_data_sf, \n",
        "                             root_dir = images_folder, \n",
        "                             transform = data_transform)\n",
        "\n",
        "train_loader = DataLoader(train_dataset, \n",
        "                          batch_size = 256, \n",
        "                          shuffle = True, \n",
        "                          num_workers = 0)\n",
        "\n",
        "test_loader = DataLoader(test_dataset, \n",
        "                         batch_size = len(test_data), \n",
        "                         shuffle = True, \n",
        "                         num_workers = 0)"
      ],
      "metadata": {
        "id": "kqGvZnDjiv5T"
      },
      "execution_count": 37,
      "outputs": []
    },
    {
      "cell_type": "code",
      "source": [
        "x, y = next(iter(test_loader))"
      ],
      "metadata": {
        "id": "P4EvDUx6Mw0Q"
      },
      "execution_count": 38,
      "outputs": []
    },
    {
      "cell_type": "markdown",
      "source": [
        "# 학습"
      ],
      "metadata": {
        "id": "k_vVZSqWMOOf"
      }
    },
    {
      "cell_type": "code",
      "source": [
        "class VGG11(torch.nn.Module): \n",
        "\n",
        "    def __init__(self):\n",
        "        super().__init__()\n",
        "\n",
        "\n",
        "        # block 1\n",
        "        self.layer1 = nn.Sequential(nn.Conv2d(3, 64, kernel_size = (3,3), padding = 1), nn.ReLU())\n",
        "        self.pool1 = nn.MaxPool2d((2,2), stride = (2,2))\n",
        "        \n",
        "        # block 2\n",
        "        self.layer2 = nn.Sequential(nn.Conv2d(64, 128, kernel_size = (3,3), padding = 1), nn.ReLU())\n",
        "        self.pool2 = nn.MaxPool2d((2,2), stride = (2,2))\n",
        "\n",
        "        # block 3\n",
        "        self.layer3 = nn.Sequential(nn.Conv2d(128, 256, kernel_size = (3,3), padding = 1), nn.ReLU())\n",
        "        self.layer4 = nn.Sequential(nn.Conv2d(256, 256, kernel_size = (3,3), padding = 1), nn.ReLU())\n",
        "        self.pool3 = nn.MaxPool2d((2,2), stride = (2,2))\n",
        "\n",
        "        # block 4\n",
        "        self.layer5 = nn.Sequential(nn.Conv2d(256, 512, kernel_size = (3,3), padding = 1), nn.ReLU())\n",
        "        self.layer6 = nn.Sequential(nn.Conv2d(512, 512, kernel_size = (3,3), padding = 1), nn.ReLU())\n",
        "        self.pool4 = nn.MaxPool2d((2,2), stride = (2,2))\n",
        "\n",
        "        # block 5\n",
        "        self.layer7 = nn.Sequential(nn.Conv2d(512, 512, kernel_size = (3,3), padding = 1), nn.ReLU())\n",
        "        self.layer8 = nn.Sequential(nn.Conv2d(512, 512, kernel_size = (3,3), padding = 1), nn.ReLU())\n",
        "        self.pool5 = nn.MaxPool2d((2,2), stride = (2,2))\n",
        "\n",
        "        # FC Layers\n",
        "        self.flat = nn.Flatten()\n",
        "\n",
        "        self.fc1 = nn.Sequential(nn.Linear(512 * 4 * 4, 4096), nn.ReLU())\n",
        "        self.fc2 = nn.Sequential(nn.Linear(4096, 4096), nn.ReLU())\n",
        "        self.fc3 = nn.Linear(4096, 3)\n",
        "\n",
        "        #self.act_funt = nn.Sigmoid()\n",
        "        self.output = nn.Softmax(dim=1) \n",
        "\n",
        "\n",
        "\n",
        "\n",
        "    def forward(self, x):\n",
        "        \n",
        "        # block 1\n",
        "        out = self.layer1(x)\n",
        "        out = self.pool1(out)\n",
        "\n",
        "        # block 2\n",
        "        out = self.layer2(out)\n",
        "        out = self.pool2(out)\n",
        "\n",
        "        # block 3\n",
        "        out = self.layer3(out)\n",
        "        out = self.layer4(out)\n",
        "        out = self.pool3(out)\n",
        "\n",
        "        # block 4\n",
        "        out = self.layer5(out)\n",
        "        out = self.layer6(out)\n",
        "        out = self.pool4(out)\n",
        "\n",
        "        # block 5\n",
        "        out = self.layer7(out)\n",
        "        out = self.layer8(out)\n",
        "        out = self.pool5(out)\n",
        "\n",
        "        # fc\n",
        "        out = self.flat(out)\n",
        "\n",
        "        out = self.fc1(out)\n",
        "        out = self.fc2(out)\n",
        "        out = self.fc3(out)\n",
        "\n",
        "        #out = self.act_funt(out)\n",
        "        prob = self.output(out)\n",
        "\n",
        "        return prob\n"
      ],
      "metadata": {
        "id": "uEWrx-X8QCKB"
      },
      "execution_count": 39,
      "outputs": []
    },
    {
      "cell_type": "code",
      "source": [
        "model1=VGG11()\n",
        "model2=VGG11()\n",
        "model3=VGG11()\n",
        "model4=VGG11()"
      ],
      "metadata": {
        "id": "N65L-obbBpbI"
      },
      "execution_count": 40,
      "outputs": []
    },
    {
      "cell_type": "code",
      "source": [
        "optimizer1=torch.optim.Adagrad(params=model1.parameters(),lr=0.1)\n",
        "optimizer2=torch.optim.Adagrad(params=model2.parameters(),lr=0.01)\n",
        "optimizer3=torch.optim.Adagrad(params=model3.parameters(),lr=0.001)\n",
        "optimizer4=torch.optim.Adagrad(params=model4.parameters(),lr=0.0001)"
      ],
      "metadata": {
        "id": "jX2y8EMi55T3"
      },
      "execution_count": 41,
      "outputs": []
    },
    {
      "cell_type": "code",
      "source": [
        "criterion1 = nn.CrossEntropyLoss()\n",
        "criterion2 = nn.CrossEntropyLoss()\n",
        "criterion3 = nn.CrossEntropyLoss()\n",
        "criterion4 = nn.CrossEntropyLoss()"
      ],
      "metadata": {
        "id": "u2y4JvqA69t5"
      },
      "execution_count": 42,
      "outputs": []
    },
    {
      "cell_type": "code",
      "source": [
        "num_epochs = 100\n",
        "learning_rate = 0.0001\n",
        "criterion = nn.CrossEntropyLoss()"
      ],
      "metadata": {
        "id": "qQqqckVZQCM0"
      },
      "execution_count": 43,
      "outputs": []
    },
    {
      "cell_type": "code",
      "source": [
        "train_loss_list1 = [] \n",
        "test_loss_list1 = []\n",
        "\n",
        "train_loss_list2 = [] \n",
        "test_loss_list2 = []\n",
        "\n",
        "train_loss_list3 = [] \n",
        "test_loss_list3 = []\n",
        "\n",
        "train_loss_list4 = [] \n",
        "test_loss_list4 = []\n",
        "\n",
        "\n",
        "model1.train()\n",
        "model2.train()\n",
        "model3.train()\n",
        "model4.train()\n",
        "\n",
        "checkpoint = 1\n",
        "for epoch in range(num_epochs):\n",
        "    for batch_idx, (x, y) in enumerate(train_loader):\n",
        "       \n",
        "        \n",
        "        optimizer1.zero_grad()\n",
        "        optimizer2.zero_grad()\n",
        "        optimizer3.zero_grad()\n",
        "        optimizer4.zero_grad()\n",
        "\n",
        "        train_pred1 = model1(x)\n",
        "        train_pred2 = model2(x)\n",
        "        train_pred3 = model3(x)\n",
        "        train_pred4 = model4(x)\n",
        "\n",
        "        loss1 = criterion1(train_pred1, y)\n",
        "        loss2 = criterion2(train_pred2, y)\n",
        "        loss3 = criterion3(train_pred3, y)\n",
        "        loss4 = criterion4(train_pred4, y)\n",
        "\n",
        "        train_loss1 = loss1.item()\n",
        "        train_loss2 = loss2.item()\n",
        "        train_loss3 = loss3.item()\n",
        "        train_loss4 = loss4.item()\n",
        "\n",
        "        loss1.backward()\n",
        "        loss2.backward()\n",
        "        loss3.backward()\n",
        "        loss4.backward()\n",
        "\n",
        "        optimizer1.step()\n",
        "        optimizer2.step()\n",
        "        optimizer3.step()\n",
        "        optimizer4.step()\n",
        "\n",
        "        if (epoch % 5 == 0) and (batch_idx == 1):\n",
        "            model1.eval()\n",
        "            model2.eval()\n",
        "            model3.eval()\n",
        "            model4.eval()\n",
        "\n",
        "            test_loss1 = 0\n",
        "            test_loss2 = 0\n",
        "            test_loss3 = 0\n",
        "            test_loss4 = 0\n",
        "            with torch.no_grad():\n",
        "                for data, target in test_loader:\n",
        "                    test_pred1 = model1(data)\n",
        "                    test_pred2 = model2(data)\n",
        "                    test_pred3 = model3(data)\n",
        "                    test_pred4 = model4(data)\n",
        "\n",
        "                    test_loss1 += criterion1(test_pred1, target).item()\n",
        "                    test_loss2 += criterion2(test_pred2, target).item()\n",
        "                    test_loss3 += criterion3(test_pred3, target).item()\n",
        "                    test_loss4 += criterion4(test_pred4, target).item()\n",
        "\n",
        "            test_loss1 /= len(test_loader)\n",
        "            test_loss2 /= len(test_loader)\n",
        "            test_loss3 /= len(test_loader)\n",
        "            test_loss4 /= len(test_loader)\n",
        "\n",
        "\n",
        "            train_loss_list1.append(train_loss1)\n",
        "            train_loss_list2.append(train_loss2)\n",
        "            train_loss_list3.append(train_loss3)\n",
        "            train_loss_list4.append(train_loss4)\n",
        "\n",
        "            test_loss_list1.append(test_loss1)\n",
        "            test_loss_list2.append(test_loss2)\n",
        "            test_loss_list3.append(test_loss3)\n",
        "            test_loss_list4.append(test_loss4)\n",
        "\n",
        "            print('Epoch: {} | batch: {} '.format(epoch, batch_idx))\n",
        "            print('--------------------------------------------------------------------------------------------------------\\n')\n"
      ],
      "metadata": {
        "id": "c-vCl9LXQ_5_",
        "colab": {
          "base_uri": "https://localhost:8080/"
        },
        "outputId": "69b8eec5-2804-4961-c9df-ea1782b3eda0"
      },
      "execution_count": 44,
      "outputs": [
        {
          "output_type": "stream",
          "name": "stdout",
          "text": [
            "Epoch: 0 | batch: 1 \n",
            "--------------------------------------------------------------------------------------------------------\n",
            "\n",
            "Epoch: 5 | batch: 1 \n",
            "--------------------------------------------------------------------------------------------------------\n",
            "\n",
            "Epoch: 10 | batch: 1 \n",
            "--------------------------------------------------------------------------------------------------------\n",
            "\n",
            "Epoch: 15 | batch: 1 \n",
            "--------------------------------------------------------------------------------------------------------\n",
            "\n",
            "Epoch: 20 | batch: 1 \n",
            "--------------------------------------------------------------------------------------------------------\n",
            "\n",
            "Epoch: 25 | batch: 1 \n",
            "--------------------------------------------------------------------------------------------------------\n",
            "\n",
            "Epoch: 30 | batch: 1 \n",
            "--------------------------------------------------------------------------------------------------------\n",
            "\n",
            "Epoch: 35 | batch: 1 \n",
            "--------------------------------------------------------------------------------------------------------\n",
            "\n",
            "Epoch: 40 | batch: 1 \n",
            "--------------------------------------------------------------------------------------------------------\n",
            "\n",
            "Epoch: 45 | batch: 1 \n",
            "--------------------------------------------------------------------------------------------------------\n",
            "\n",
            "Epoch: 50 | batch: 1 \n",
            "--------------------------------------------------------------------------------------------------------\n",
            "\n",
            "Epoch: 55 | batch: 1 \n",
            "--------------------------------------------------------------------------------------------------------\n",
            "\n",
            "Epoch: 60 | batch: 1 \n",
            "--------------------------------------------------------------------------------------------------------\n",
            "\n",
            "Epoch: 65 | batch: 1 \n",
            "--------------------------------------------------------------------------------------------------------\n",
            "\n",
            "Epoch: 70 | batch: 1 \n",
            "--------------------------------------------------------------------------------------------------------\n",
            "\n",
            "Epoch: 75 | batch: 1 \n",
            "--------------------------------------------------------------------------------------------------------\n",
            "\n",
            "Epoch: 80 | batch: 1 \n",
            "--------------------------------------------------------------------------------------------------------\n",
            "\n",
            "Epoch: 85 | batch: 1 \n",
            "--------------------------------------------------------------------------------------------------------\n",
            "\n",
            "Epoch: 90 | batch: 1 \n",
            "--------------------------------------------------------------------------------------------------------\n",
            "\n",
            "Epoch: 95 | batch: 1 \n",
            "--------------------------------------------------------------------------------------------------------\n",
            "\n"
          ]
        }
      ]
    },
    {
      "cell_type": "code",
      "source": [
        "#torch.save(model.state_dict(), 'vgg11_model_adagrad3')"
      ],
      "metadata": {
        "id": "jzqo10ksIZuP"
      },
      "execution_count": 45,
      "outputs": []
    },
    {
      "cell_type": "code",
      "source": [
        "train1=train_loss_list1\n",
        "train2=train_loss_list2\n",
        "train3=train_loss_list3\n",
        "train4=train_loss_list4\n",
        "\n",
        "\n",
        "plt.figure(1, figsize = (10, 6))\n",
        "plt.title('Train Loss')\n",
        "\n",
        "plt.plot(train1, marker='.', c = 'black',label='LR=0.1')\n",
        "#plt.plot(train2, marker='.', c = 'r',label='LR=0.01')\n",
        "plt.plot(train3, marker='.', c = 'g',label='LR=0.001')\n",
        "plt.plot(train4, marker='.', c = 'y',label='LR=0.0001')\n",
        "\n",
        "plt.legend(loc='upper right')\n",
        "plt.grid()\n",
        "plt.ylim()\n",
        "plt.show()"
      ],
      "metadata": {
        "id": "HttU9yq8fn_s",
        "colab": {
          "base_uri": "https://localhost:8080/",
          "height": 390
        },
        "outputId": "8678a22f-974d-488a-8263-57a1c7851357"
      },
      "execution_count": 61,
      "outputs": [
        {
          "output_type": "display_data",
          "data": {
            "text/plain": [
              "<Figure size 720x432 with 1 Axes>"
            ],
            "image/png": "[encoded data removed]"
          },
          "metadata": {
            "needs_background": "light"
          }
        }
      ]
    },
    {
      "cell_type": "code",
      "source": [
        "train1"
      ],
      "metadata": {
        "colab": {
          "base_uri": "https://localhost:8080/"
        },
        "id": "63hFk46uSoNh",
        "outputId": "202b0392-e563-465c-aac5-b59f6b614e2b"
      },
      "execution_count": 60,
      "outputs": [
        {
          "output_type": "execute_result",
          "data": {
            "text/plain": [
              "[1.2216575145721436,\n",
              " 1.1897426843643188,\n",
              " 1.1578278541564941,\n",
              " 1.221657633781433,\n",
              " 1.1897426843643188,\n",
              " 1.2003809213638306,\n",
              " 1.306764006614685,\n",
              " 1.2110192775726318,\n",
              " 1.2642109394073486,\n",
              " 1.1471894979476929,\n",
              " 1.2322958707809448,\n",
              " 1.1684660911560059,\n",
              " 1.221657633781433,\n",
              " 1.104636311531067,\n",
              " 1.242934226989746,\n",
              " 1.2216575145721436,\n",
              " 1.2322958707809448,\n",
              " 1.2003810405731201,\n",
              " 1.2961257696151733,\n",
              " 1.2322958707809448]"
            ]
          },
          "metadata": {},
          "execution_count": 60
        }
      ]
    },
    {
      "cell_type": "code",
      "source": [
        "test1=test_loss_list1\n",
        "test2=test_loss_list2\n",
        "test3=test_loss_list3\n",
        "test4=test_loss_list4\n",
        "\n",
        "plt.figure(1, figsize = (10, 10))\n",
        "plt.title('Test Loss')\n",
        "\n",
        "plt.plot(test1, marker='.', c = 'b',label='LR=0.1')\n",
        "plt.plot(test2, marker='.', c = 'r',label='LR=0.01')\n",
        "plt.plot(test3, marker='.', c = 'g',label='LR=0.001')\n",
        "plt.plot(test4, marker='.', c = 'y',label='LR=0.0001')\n",
        "\n",
        "plt.legend(loc='upper right')\n",
        "plt.grid()\n",
        "plt.ylim()\n",
        "plt.show()"
      ],
      "metadata": {
        "colab": {
          "base_uri": "https://localhost:8080/",
          "height": 607
        },
        "id": "3DnyikUp-29R",
        "outputId": "98d2c7fd-fb45-4d48-f75e-01b4433301cd"
      },
      "execution_count": 55,
      "outputs": [
        {
          "output_type": "display_data",
          "data": {
            "text/plain": [
              "<Figure size 720x720 with 1 Axes>"
            ],
            "image/png": "[encoded data removed]"
          },
          "metadata": {
            "needs_background": "light"
          }
        }
      ]
    },
    {
      "cell_type": "markdown",
      "source": [
        "# 성능평가"
      ],
      "metadata": {
        "id": "AaHPDtKs1-2L"
      }
    },
    {
      "cell_type": "code",
      "source": [
        "from sklearn.metrics import classification_report"
      ],
      "metadata": {
        "id": "EVMZK_ZGfoCK"
      },
      "execution_count": 48,
      "outputs": []
    },
    {
      "cell_type": "code",
      "source": [
        "model.eval()\n",
        "test_labels = [] #np.array(None)\n",
        "pred_labels = [] #np.array(None)\n",
        "\n",
        "with torch.no_grad():\n",
        "    for data, target in test_loader:\n",
        "        output = model(data)\n",
        "        pred = output.argmax(dim = 1)\n",
        "\n",
        "        target = target.detach().numpy()\n",
        "        pred = pred.detach().numpy()\n",
        "\n",
        "        test_labels.append(target)\n",
        "        pred_labels.append(pred)"
      ],
      "metadata": {
        "id": "kKxQMukaV7pb",
        "colab": {
          "base_uri": "https://localhost:8080/",
          "height": 243
        },
        "outputId": "8b34b3f9-9b98-4e19-eb9b-6442b86b9867"
      },
      "execution_count": 49,
      "outputs": [
        {
          "output_type": "error",
          "ename": "NameError",
          "evalue": "ignored",
          "traceback": [
            "\u001b[0;31m---------------------------------------------------------------------------\u001b[0m",
            "\u001b[0;31mNameError\u001b[0m                                 Traceback (most recent call last)",
            "\u001b[0;32m<ipython-input-49-0259f3dacb10>\u001b[0m in \u001b[0;36m<module>\u001b[0;34m\u001b[0m\n\u001b[0;32m----> 1\u001b[0;31m \u001b[0mmodel\u001b[0m\u001b[0;34m.\u001b[0m\u001b[0meval\u001b[0m\u001b[0;34m(\u001b[0m\u001b[0;34m)\u001b[0m\u001b[0;34m\u001b[0m\u001b[0;34m\u001b[0m\u001b[0m\n\u001b[0m\u001b[1;32m      2\u001b[0m \u001b[0mtest_labels\u001b[0m \u001b[0;34m=\u001b[0m \u001b[0;34m[\u001b[0m\u001b[0;34m]\u001b[0m \u001b[0;31m#np.array(None)\u001b[0m\u001b[0;34m\u001b[0m\u001b[0;34m\u001b[0m\u001b[0m\n\u001b[1;32m      3\u001b[0m \u001b[0mpred_labels\u001b[0m \u001b[0;34m=\u001b[0m \u001b[0;34m[\u001b[0m\u001b[0;34m]\u001b[0m \u001b[0;31m#np.array(None)\u001b[0m\u001b[0;34m\u001b[0m\u001b[0;34m\u001b[0m\u001b[0m\n\u001b[1;32m      4\u001b[0m \u001b[0;34m\u001b[0m\u001b[0m\n\u001b[1;32m      5\u001b[0m \u001b[0;32mwith\u001b[0m \u001b[0mtorch\u001b[0m\u001b[0;34m.\u001b[0m\u001b[0mno_grad\u001b[0m\u001b[0;34m(\u001b[0m\u001b[0;34m)\u001b[0m\u001b[0;34m:\u001b[0m\u001b[0;34m\u001b[0m\u001b[0;34m\u001b[0m\u001b[0m\n",
            "\u001b[0;31mNameError\u001b[0m: name 'model' is not defined"
          ]
        }
      ]
    },
    {
      "cell_type": "code",
      "source": [
        "test_labels"
      ],
      "metadata": {
        "id": "MBapBLNUzizD"
      },
      "execution_count": null,
      "outputs": []
    },
    {
      "cell_type": "code",
      "source": [
        "pred_labels"
      ],
      "metadata": {
        "id": "hZ0Al_7azrN1"
      },
      "execution_count": null,
      "outputs": []
    },
    {
      "cell_type": "code",
      "source": [
        "pred_onehot = model(x)\n",
        "pred = pred_onehot.argmax(dim = 1)\n",
        "pred_onehot"
      ],
      "metadata": {
        "id": "vIhOyCTT33S0"
      },
      "execution_count": null,
      "outputs": []
    },
    {
      "cell_type": "code",
      "source": [
        "Y_test2 = y.detach().numpy()\n",
        "pred2 = pred.detach().numpy()"
      ],
      "metadata": {
        "id": "iCgvYBTQ9kgj"
      },
      "execution_count": null,
      "outputs": []
    },
    {
      "cell_type": "code",
      "source": [
        "print(classification_report(y_true = y, y_pred = pred))"
      ],
      "metadata": {
        "id": "SJOtXTvbfoFO"
      },
      "execution_count": null,
      "outputs": []
    },
    {
      "cell_type": "markdown",
      "source": [
        "# "
      ],
      "metadata": {
        "id": "ymelLfML65af"
      }
    },
    {
      "cell_type": "code",
      "source": [
        "# 예측이 틀린 인덱스 번호 저장\n",
        "incorrect_idx = []\n",
        "\n",
        "# 모델이 예측한 값\n",
        "model_predict = []\n",
        "\n",
        "for idx in range(x.shape[0]):\n",
        "\n",
        "    if (pred2[idx] != Y_test2[idx]):\n",
        "        \n",
        "        incorrect_idx.append(idx)\n",
        "        model_predict.append(pred2[idx])\n"
      ],
      "metadata": {
        "id": "7n8e8DbyQCPW"
      },
      "execution_count": null,
      "outputs": []
    },
    {
      "cell_type": "code",
      "source": [
        "toPILImage = ToPILImage()"
      ],
      "metadata": {
        "id": "84Cncgs6COC2"
      },
      "execution_count": null,
      "outputs": []
    },
    {
      "cell_type": "code",
      "source": [
        "len(incorrect_idx)"
      ],
      "metadata": {
        "id": "qaGbJ1A1xLw9"
      },
      "execution_count": null,
      "outputs": []
    },
    {
      "cell_type": "code",
      "source": [
        "num = 0\n",
        "\n",
        "f, axarr = plt.subplots(len(incorrect_idx),1,figsize = (300, 300))\n",
        "\n",
        "for idx in incorrect_idx:\n",
        "    axarr[num].imshow(toPILImage(x[idx]))\n",
        "\n",
        "    axarr[num].title.set_text('predict: '+str(model_predict[num])+'\\n'+'correct: '+str(y[idx]))\n",
        "\n",
        "    num = num + 1"
      ],
      "metadata": {
        "id": "LUr9k9QjCsBK"
      },
      "execution_count": null,
      "outputs": []
    },
    {
      "cell_type": "code",
      "source": [
        "torch.save(model.state_dict(), 'vgg11_model_adagrad.pt')"
      ],
      "metadata": {
        "id": "4CymqD3nauJy"
      },
      "execution_count": null,
      "outputs": []
    },
    {
      "cell_type": "code",
      "source": [],
      "metadata": {
        "id": "oaiOiH-1BRnJ"
      },
      "execution_count": null,
      "outputs": []
    },
    {
      "cell_type": "code",
      "source": [],
      "metadata": {
        "id": "6PhC9HdDBRsC"
      },
      "execution_count": null,
      "outputs": []
    }
  ],
  "metadata": {
    "colab": {
      "provenance": [],
      "machine_shape": "hm",
      "include_colab_link": true
    },
    "kernelspec": {
      "display_name": "Python 3",
      "name": "python3"
    },
    "language_info": {
      "name": "python"
    },
    "accelerator": "GPU",
    "gpuClass": "premium"
  },
  "nbformat": 4,
  "nbformat_minor": 0
}