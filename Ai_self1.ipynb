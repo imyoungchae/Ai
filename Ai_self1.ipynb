{
 "cells": [
  {
   "cell_type": "code",
   "execution_count": 1,
   "id": "66d02f52",
   "metadata": {},
   "outputs": [],
   "source": [
    "import numpy as np\n",
    "import matplotlib.pyplot as plt\n",
    "plt.style.use(['seaborn-whitegrid'])"
   ]
  },
  {
   "cell_type": "code",
   "execution_count": 3,
   "id": "6bf95c26",
   "metadata": {},
   "outputs": [
    {
     "data": {
      "text/plain": [
       "<matplotlib.collections.PathCollection at 0x16c893f4790>"
      ]
     },
     "execution_count": 3,
     "metadata": {},
     "output_type": "execute_result"
    },
    {
     "data": {
      "image/png": "[encoded data removed]",
      "text/plain": [
       "<Figure size 432x288 with 1 Axes>"
      ]
     },
     "metadata": {},
     "output_type": "display_data"
    }
   ],
   "source": [
    "x=10*np.random.rand(50)\n",
    "y=2*x+np.random.rand(50)\n",
    "\n",
    "plt.scatter(x,y)"
   ]
  },
  {
   "cell_type": "code",
   "execution_count": 5,
   "id": "16f91a81",
   "metadata": {},
   "outputs": [],
   "source": [
    "from sklearn.linear_model import LinearRegression"
   ]
  },
  {
   "cell_type": "code",
   "execution_count": 7,
   "id": "e49ef85e",
   "metadata": {},
   "outputs": [
    {
     "data": {
      "text/plain": [
       "LinearRegression()"
      ]
     },
     "execution_count": 7,
     "metadata": {},
     "output_type": "execute_result"
    }
   ],
   "source": [
    "model=LinearRegression(fit_intercept=True)\n",
    "model"
   ]
  },
  {
   "cell_type": "code",
   "execution_count": 8,
   "id": "f3e69881",
   "metadata": {},
   "outputs": [],
   "source": [
    "X=x[:,np.newaxis]"
   ]
  },
  {
   "cell_type": "code",
   "execution_count": 9,
   "id": "05b1e074",
   "metadata": {},
   "outputs": [
    {
     "data": {
      "text/plain": [
       "array([9.82364291, 0.9891843 , 0.05823673, 4.69289521, 3.36876746,\n",
       "       3.81612809, 3.94281424, 5.21990735, 2.18854997, 0.40803326,\n",
       "       4.42266551, 8.82253683, 4.33776516, 5.69670779, 7.04392187,\n",
       "       0.96250762, 8.89495949, 7.03389518, 3.22618588, 8.93453964,\n",
       "       3.64205051, 1.29910793, 9.80891794, 5.3493489 , 6.62033364,\n",
       "       7.26499569, 8.05814805, 5.35132401, 9.47943509, 7.29930864,\n",
       "       3.25261534, 5.03430061, 4.77770938, 5.0624931 , 7.9397767 ,\n",
       "       5.29120664, 9.19951133, 2.98926232, 7.81003483, 5.61484169,\n",
       "       5.9613683 , 9.02974763, 3.44350535, 6.76791922, 6.10917666,\n",
       "       1.13454052, 7.66121525, 7.91383835, 1.66307539, 5.05401822])"
      ]
     },
     "execution_count": 9,
     "metadata": {},
     "output_type": "execute_result"
    }
   ],
   "source": [
    "x"
   ]
  },
  {
   "cell_type": "code",
   "execution_count": 10,
   "id": "b9f0efb9",
   "metadata": {},
   "outputs": [
    {
     "data": {
      "text/plain": [
       "array([[9.82364291],\n",
       "       [0.9891843 ],\n",
       "       [0.05823673],\n",
       "       [4.69289521],\n",
       "       [3.36876746],\n",
       "       [3.81612809],\n",
       "       [3.94281424],\n",
       "       [5.21990735],\n",
       "       [2.18854997],\n",
       "       [0.40803326],\n",
       "       [4.42266551],\n",
       "       [8.82253683],\n",
       "       [4.33776516],\n",
       "       [5.69670779],\n",
       "       [7.04392187],\n",
       "       [0.96250762],\n",
       "       [8.89495949],\n",
       "       [7.03389518],\n",
       "       [3.22618588],\n",
       "       [8.93453964],\n",
       "       [3.64205051],\n",
       "       [1.29910793],\n",
       "       [9.80891794],\n",
       "       [5.3493489 ],\n",
       "       [6.62033364],\n",
       "       [7.26499569],\n",
       "       [8.05814805],\n",
       "       [5.35132401],\n",
       "       [9.47943509],\n",
       "       [7.29930864],\n",
       "       [3.25261534],\n",
       "       [5.03430061],\n",
       "       [4.77770938],\n",
       "       [5.0624931 ],\n",
       "       [7.9397767 ],\n",
       "       [5.29120664],\n",
       "       [9.19951133],\n",
       "       [2.98926232],\n",
       "       [7.81003483],\n",
       "       [5.61484169],\n",
       "       [5.9613683 ],\n",
       "       [9.02974763],\n",
       "       [3.44350535],\n",
       "       [6.76791922],\n",
       "       [6.10917666],\n",
       "       [1.13454052],\n",
       "       [7.66121525],\n",
       "       [7.91383835],\n",
       "       [1.66307539],\n",
       "       [5.05401822]])"
      ]
     },
     "execution_count": 10,
     "metadata": {},
     "output_type": "execute_result"
    }
   ],
   "source": [
    "X"
   ]
  },
  {
   "cell_type": "code",
   "execution_count": 12,
   "id": "c1e7b938",
   "metadata": {},
   "outputs": [
    {
     "data": {
      "text/plain": [
       "LinearRegression()"
      ]
     },
     "execution_count": 12,
     "metadata": {},
     "output_type": "execute_result"
    }
   ],
   "source": [
    "model.fit(X,y)"
   ]
  },
  {
   "cell_type": "code",
   "execution_count": 13,
   "id": "dcc55015",
   "metadata": {},
   "outputs": [
    {
     "data": {
      "text/plain": [
       "array([1.99718311])"
      ]
     },
     "execution_count": 13,
     "metadata": {},
     "output_type": "execute_result"
    }
   ],
   "source": [
    "model.coef_"
   ]
  },
  {
   "cell_type": "code",
   "execution_count": 14,
   "id": "72ef4a1a",
   "metadata": {},
   "outputs": [
    {
     "data": {
      "text/plain": [
       "0.5316184836020739"
      ]
     },
     "execution_count": 14,
     "metadata": {},
     "output_type": "execute_result"
    }
   ],
   "source": [
    "model.intercept_"
   ]
  },
  {
   "cell_type": "code",
   "execution_count": 15,
   "id": "6dc779da",
   "metadata": {},
   "outputs": [],
   "source": [
    "xfit=np.linspace(-1,11)\n",
    "Xfit=xfit[:,np.newaxis]\n",
    "yfit=model.predict(Xfit)"
   ]
  },
  {
   "cell_type": "code",
   "execution_count": 16,
   "id": "e7441b10",
   "metadata": {},
   "outputs": [
    {
     "data": {
      "text/plain": [
       "array([-1.46556463e+00, -9.76458561e-01, -4.87352493e-01,  1.75357591e-03,\n",
       "        4.90859645e-01,  9.79965713e-01,  1.46907178e+00,  1.95817785e+00,\n",
       "        2.44728392e+00,  2.93638999e+00,  3.42549606e+00,  3.91460213e+00,\n",
       "        4.40370819e+00,  4.89281426e+00,  5.38192033e+00,  5.87102640e+00,\n",
       "        6.36013247e+00,  6.84923854e+00,  7.33834461e+00,  7.82745067e+00,\n",
       "        8.31655674e+00,  8.80566281e+00,  9.29476888e+00,  9.78387495e+00,\n",
       "        1.02729810e+01,  1.07620871e+01,  1.12511932e+01,  1.17402992e+01,\n",
       "        1.22294053e+01,  1.27185114e+01,  1.32076174e+01,  1.36967235e+01,\n",
       "        1.41858296e+01,  1.46749356e+01,  1.51640417e+01,  1.56531478e+01,\n",
       "        1.61422538e+01,  1.66313599e+01,  1.71204660e+01,  1.76095720e+01,\n",
       "        1.80986781e+01,  1.85877842e+01,  1.90768903e+01,  1.95659963e+01,\n",
       "        2.00551024e+01,  2.05442085e+01,  2.10333145e+01,  2.15224206e+01,\n",
       "        2.20115267e+01,  2.25006327e+01])"
      ]
     },
     "execution_count": 16,
     "metadata": {},
     "output_type": "execute_result"
    }
   ],
   "source": [
    "yfit"
   ]
  },
  {
   "cell_type": "code",
   "execution_count": 17,
   "id": "364265de",
   "metadata": {},
   "outputs": [
    {
     "data": {
      "text/plain": [
       "array([[-1.        ],\n",
       "       [-0.75510204],\n",
       "       [-0.51020408],\n",
       "       [-0.26530612],\n",
       "       [-0.02040816],\n",
       "       [ 0.2244898 ],\n",
       "       [ 0.46938776],\n",
       "       [ 0.71428571],\n",
       "       [ 0.95918367],\n",
       "       [ 1.20408163],\n",
       "       [ 1.44897959],\n",
       "       [ 1.69387755],\n",
       "       [ 1.93877551],\n",
       "       [ 2.18367347],\n",
       "       [ 2.42857143],\n",
       "       [ 2.67346939],\n",
       "       [ 2.91836735],\n",
       "       [ 3.16326531],\n",
       "       [ 3.40816327],\n",
       "       [ 3.65306122],\n",
       "       [ 3.89795918],\n",
       "       [ 4.14285714],\n",
       "       [ 4.3877551 ],\n",
       "       [ 4.63265306],\n",
       "       [ 4.87755102],\n",
       "       [ 5.12244898],\n",
       "       [ 5.36734694],\n",
       "       [ 5.6122449 ],\n",
       "       [ 5.85714286],\n",
       "       [ 6.10204082],\n",
       "       [ 6.34693878],\n",
       "       [ 6.59183673],\n",
       "       [ 6.83673469],\n",
       "       [ 7.08163265],\n",
       "       [ 7.32653061],\n",
       "       [ 7.57142857],\n",
       "       [ 7.81632653],\n",
       "       [ 8.06122449],\n",
       "       [ 8.30612245],\n",
       "       [ 8.55102041],\n",
       "       [ 8.79591837],\n",
       "       [ 9.04081633],\n",
       "       [ 9.28571429],\n",
       "       [ 9.53061224],\n",
       "       [ 9.7755102 ],\n",
       "       [10.02040816],\n",
       "       [10.26530612],\n",
       "       [10.51020408],\n",
       "       [10.75510204],\n",
       "       [11.        ]])"
      ]
     },
     "execution_count": 17,
     "metadata": {},
     "output_type": "execute_result"
    }
   ],
   "source": [
    "Xfit"
   ]
  },
  {
   "cell_type": "code",
   "execution_count": 18,
   "id": "459247ec",
   "metadata": {},
   "outputs": [
    {
     "data": {
      "text/plain": [
       "<matplotlib.collections.PathCollection at 0x16c932adcc0>"
      ]
     },
     "execution_count": 18,
     "metadata": {},
     "output_type": "execute_result"
    },
    {
     "data": {
      "image/png": "[encoded data removed]",
      "text/plain": [
       "<Figure size 432x288 with 1 Axes>"
      ]
     },
     "metadata": {},
     "output_type": "display_data"
    }
   ],
   "source": [
    "plt.scatter(x,y)"
   ]
  },
  {
   "cell_type": "code",
   "execution_count": 19,
   "id": "a5e18f95",
   "metadata": {},
   "outputs": [
    {
     "data": {
      "text/plain": [
       "[<matplotlib.lines.Line2D at 0x16c93329ab0>]"
      ]
     },
     "execution_count": 19,
     "metadata": {},
     "output_type": "execute_result"
    },
    {
     "data": {
      "image/png": "[encoded data removed]",
      "text/plain": [
       "<Figure size 432x288 with 1 Axes>"
      ]
     },
     "metadata": {},
     "output_type": "display_data"
    }
   ],
   "source": [
    "plt.plot(xfit,yfit,'--r')"
   ]
  },
  {
   "cell_type": "code",
   "execution_count": null,
   "id": "ed5e3437",
   "metadata": {},
   "outputs": [],
   "source": []
  }
 ],
 "metadata": {
  "kernelspec": {
   "display_name": "yc",
   "language": "python",
   "name": "yc"
  },
  "language_info": {
   "codemirror_mode": {
    "name": "ipython",
    "version": 3
   },
   "file_extension": ".py",
   "mimetype": "text/x-python",
   "name": "python",
   "nbconvert_exporter": "python",
   "pygments_lexer": "ipython3",
   "version": "3.10.0"
  }
 },
 "nbformat": 4,
 "nbformat_minor": 5
}
