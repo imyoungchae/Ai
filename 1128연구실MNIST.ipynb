{
  "nbformat": 4,
  "nbformat_minor": 0,
  "metadata": {
    "colab": {
      "provenance": [],
      "mount_file_id": "1J83ShKSF4Cegm-H_BheQQ1Z2J8EkLWzJ",
      "authorship_tag": "ABX9TyPTp/qY+bVZqTo0S8Yym45P",
      "include_colab_link": true
    },
    "kernelspec": {
      "name": "python3",
      "display_name": "Python 3"
    },
    "language_info": {
      "name": "python"
    },
    "accelerator": "GPU",
    "gpuClass": "standard"
  },
  "cells": [
    {
      "cell_type": "markdown",
      "metadata": {
        "id": "view-in-github",
        "colab_type": "text"
      },
      "source": [
        "<a href=\"https://colab.research.google.com/github/imyoungchae/Ai/blob/main/1128%EC%97%B0%EA%B5%AC%EC%8B%A4MNIST.ipynb\" target=\"_parent\"><img src=\"https://colab.research.google.com/assets/colab-badge.svg\" alt=\"Open In Colab\"/></a>"
      ]
    },
    {
      "cell_type": "code",
      "source": [
        "import numpy as np\n",
        "import matplotlib.pyplot as plt\n",
        "import time\n",
        "import cv2"
      ],
      "metadata": {
        "id": "7wA_8frbtStD"
      },
      "execution_count": 1,
      "outputs": []
    },
    {
      "cell_type": "code",
      "source": [
        "from google.colab import drive\n",
        "drive.mount('/content/gdrive')"
      ],
      "metadata": {
        "colab": {
          "base_uri": "https://localhost:8080/"
        },
        "id": "ET0SLU7y2VUw",
        "outputId": "183ec8af-0a84-4021-9d52-47d4691857eb"
      },
      "execution_count": 2,
      "outputs": [
        {
          "output_type": "stream",
          "name": "stdout",
          "text": [
            "Mounted at /content/gdrive\n"
          ]
        }
      ]
    },
    {
      "cell_type": "code",
      "source": [
        "import sys, os\n",
        "sys.path.append(\"/content/gdrive/MyDrive/deep-learning-from-scratch-master/deep-learning-from-scratch-master\")"
      ],
      "metadata": {
        "id": "6oMCMRbK2HWf"
      },
      "execution_count": 3,
      "outputs": []
    },
    {
      "cell_type": "code",
      "source": [
        "import sys, os\n",
        "sys.path.append(\"/content/gdrive/MyDrive/deep-learning-from-scratch-master/deep-learning-from-scratch-master/dataset\")"
      ],
      "metadata": {
        "id": "3-eepCtI7a9n"
      },
      "execution_count": 4,
      "outputs": []
    },
    {
      "cell_type": "code",
      "source": [
        "import sys, os\n",
        "sys.path.append(\"/content/gdrive/MyDrive/deep-learning-from-scratch-master/deep-learning-from-scratch-master/ch05\")"
      ],
      "metadata": {
        "id": "EewS4eSn7SUh"
      },
      "execution_count": 5,
      "outputs": []
    },
    {
      "cell_type": "code",
      "source": [
        "import sys, os\n",
        "sys.path.append(\"/content/gdrive/MyDrive/deep-learning-from-scratch-master/deep-learning-from-scratch-master/common\")"
      ],
      "metadata": {
        "id": "7WbK-U9DeKin"
      },
      "execution_count": 6,
      "outputs": []
    },
    {
      "cell_type": "code",
      "source": [
        "import pickle\n",
        "with open(\"/content/gdrive/MyDrive/deep-learning-from-scratch-master/deep-learning-from-scratch-master/dataset/mnist.pkl\",\"rb\") as fr:\n",
        "    data = pickle.load(fr)"
      ],
      "metadata": {
        "id": "Uf04fEzU1FnN"
      },
      "execution_count": 7,
      "outputs": []
    },
    {
      "cell_type": "code",
      "execution_count": 8,
      "metadata": {
        "colab": {
          "base_uri": "https://localhost:8080/"
        },
        "id": "XgkVaw_7oWZu",
        "outputId": "5e45e5ca-a949-4d4b-e643-7c486fd257ba"
      },
      "outputs": [
        {
          "output_type": "stream",
          "name": "stdout",
          "text": [
            "train,test : 0.1888,0.188\n",
            "train,test : 0.9596666666666667,0.9554\n",
            "train,test : 0.9736833333333333,0.9651\n",
            "train,test : 0.9808166666666667,0.9704\n",
            "train,test : 0.98545,0.973\n",
            "train,test : 0.9881,0.975\n",
            "time : 133.45783233642578\n"
          ]
        }
      ],
      "source": [
        "import numpy as np\n",
        "from dataset.mnist import load_mnist\n",
        "from multi_layer_net import MultiLayerNet\n",
        "import sys\n",
        "import os\n",
        "\n",
        "sys.path.append(\"/content/gdrive/My Drive/Colab Notebooks/deep-learning-from-scratch-master/deep-learning-from-scratch-master\")\n",
        "import numpy as np\n",
        "\n",
        "(x_train,t_train),(x_test,t_test)= load_mnist(normalize=True,one_hot_label=True)\n",
        "\n",
        "train_loss_list = []\n",
        "train_acc_list = []\n",
        "test_acc_list = []\n",
        "\n",
        "iters_num = 10000\n",
        "train_size = x_train.shape[0]\n",
        "batch_size = 256\n",
        "learning_rate = 0.1\n",
        "network = MultiLayerNet(input_size=784, hidden_size_list=[100, 100, 100],output_size=10)\n",
        "\n",
        "iter_per_epoch = max(train_size / batch_size, 1)\n",
        "start = time.time()\n",
        "\n",
        "for i in range(iters_num):\n",
        "    batch_mask = np.random.choice(train_size, batch_size)\n",
        "    x_batch = x_train[batch_mask]\n",
        "    t_batch = t_train[batch_mask]\n",
        "    \n",
        "    grad = network.gradient(x_batch, t_batch)\n",
        "    \n",
        "    for key in ('W1', 'b1', 'W2', 'b2'):\n",
        "        network.params[key] -= learning_rate * grad[key]\n",
        "    \n",
        "    loss = network.loss(x_batch, t_batch)\n",
        "    train_loss_list.append(loss)\n",
        "\n",
        "    if i % iter_per_epoch == 0:\n",
        "        train_acc = network.accuracy(x_train, t_train)\n",
        "        test_acc = network.accuracy(x_test, t_test)\n",
        "        train_acc_list.append(train_acc)\n",
        "        test_acc_list.append(test_acc)\n",
        "        \n",
        "        print(\"train,test : \"+str(train_acc)+\",\"+str(test_acc))\n",
        "\n",
        "print(\"time :\", time.time() - start)\n"
      ]
    },
    {
      "cell_type": "code",
      "source": [
        "import numpy as np\n",
        "from dataset.mnist import load_mnist\n",
        "from multi_layer_net import MultiLayerNet\n",
        "import sys\n",
        "import os\n",
        "\n",
        "sys.path.append(\"/content/gdrive/My Drive/Colab Notebooks/deep-learning-from-scratch-master/deep-learning-from-scratch-master\")\n",
        "import numpy as np\n",
        "\n",
        "(x_train,t_train),(x_test,t_test)= load_mnist(normalize=True,one_hot_label=True)\n",
        "\n",
        "train_loss_list = []\n",
        "train_acc_list = []\n",
        "test_acc_list2= []\n",
        "train_loss_list2=[]\n",
        "\n",
        "iters_num = 10000\n",
        "train_size = x_train.shape[0]\n",
        "batch_size = 100\n",
        "learning_rate = 0.1\n",
        "network = MultiLayerNet(input_size=784, hidden_size_list=[100, 100, 100],output_size=10)\n",
        "\n",
        "iter_per_epoch = max(train_size / batch_size, 1)\n",
        "start = time.time()\n",
        "\n",
        "for i in range(iters_num):\n",
        "    batch_mask = np.random.choice(train_size, batch_size)\n",
        "    x_batch = x_train[batch_mask]\n",
        "    t_batch = t_train[batch_mask]\n",
        "    \n",
        "    grad = network.gradient(x_batch, t_batch)\n",
        "    \n",
        "    for key in ('W1', 'b1', 'W2', 'b2'):\n",
        "        network.params[key] -= learning_rate * grad[key]\n",
        "    \n",
        "    loss2 = network.loss(x_batch, t_batch)\n",
        "    train_loss_list2.append(loss2)\n",
        "\n",
        "    if i % iter_per_epoch == 0:\n",
        "        train_acc = network.accuracy(x_train, t_train)\n",
        "        test_acc = network.accuracy(x_test, t_test)\n",
        "        train_acc_list.append(train_acc)\n",
        "        test_acc_list2.append(test_acc)\n",
        "        \n",
        "        print(\"train,test : \"+str(train_acc)+\",\"+str(test_acc))\n",
        "\n",
        "print(\"time :\", time.time() - start)\n"
      ],
      "metadata": {
        "colab": {
          "base_uri": "https://localhost:8080/"
        },
        "id": "NBFF2LT3Hcsv",
        "outputId": "3e63a782-6d19-4729-fb2f-4119f63c57ee"
      },
      "execution_count": 9,
      "outputs": [
        {
          "output_type": "stream",
          "name": "stdout",
          "text": [
            "train,test : 0.13705,0.1317\n",
            "train,test : 0.9268666666666666,0.9286\n",
            "train,test : 0.9437666666666666,0.9413\n",
            "train,test : 0.9538,0.95\n",
            "train,test : 0.9596333333333333,0.9539\n",
            "train,test : 0.9651,0.9593\n",
            "train,test : 0.96655,0.9582\n",
            "train,test : 0.9701,0.9611\n",
            "train,test : 0.9745,0.9657\n",
            "train,test : 0.9762,0.9666\n",
            "train,test : 0.9789833333333333,0.9684\n",
            "train,test : 0.98055,0.9704\n",
            "train,test : 0.9816,0.9709\n",
            "train,test : 0.9822666666666666,0.971\n",
            "train,test : 0.9844666666666667,0.9722\n",
            "train,test : 0.9861666666666666,0.973\n",
            "train,test : 0.9854,0.9721\n",
            "time : 76.96256637573242\n"
          ]
        }
      ]
    },
    {
      "cell_type": "code",
      "source": [
        "import numpy as np\n",
        "from dataset.mnist import load_mnist\n",
        "from multi_layer_net import MultiLayerNet\n",
        "import sys\n",
        "import os\n",
        "\n",
        "sys.path.append(\"/content/gdrive/My Drive/Colab Notebooks/deep-learning-from-scratch-master/deep-learning-from-scratch-master\")\n",
        "import numpy as np\n",
        "\n",
        "(x_train,t_train),(x_test,t_test)= load_mnist(normalize=True,one_hot_label=True)\n",
        "\n",
        "train_loss_list = []\n",
        "train_acc_list = []\n",
        "test_acc_list3= []\n",
        "train_loss_list3=[]\n",
        "\n",
        "iters_num = 10000\n",
        "train_size = x_train.shape[0]\n",
        "batch_size = 25\n",
        "learning_rate = 0.001\n",
        "network = MultiLayerNet(input_size=784, hidden_size_list=[100, 100, 100],output_size=10)\n",
        "\n",
        "iter_per_epoch = max(train_size / batch_size, 1)\n",
        "start = time.time()\n",
        "\n",
        "for i in range(iters_num):\n",
        "    batch_mask = np.random.choice(train_size, batch_size)\n",
        "    x_batch = x_train[batch_mask]\n",
        "    t_batch = t_train[batch_mask]\n",
        "    \n",
        "    grad = network.gradient(x_batch, t_batch)\n",
        "    \n",
        "    for key in ('W1', 'b1', 'W2', 'b2'):\n",
        "        network.params[key] -= learning_rate * grad[key]\n",
        "    \n",
        "    loss2 = network.loss(x_batch, t_batch)\n",
        "    train_loss_list3.append(loss2)\n",
        "\n",
        "    if i % iter_per_epoch == 0:\n",
        "        train_acc = network.accuracy(x_train, t_train)\n",
        "        test_acc = network.accuracy(x_test, t_test)\n",
        "        train_acc_list.append(train_acc)\n",
        "        test_acc_list3.append(test_acc)\n",
        "        \n",
        "        print(\"train,test : \"+str(train_acc)+\",\"+str(test_acc))\n",
        "\n",
        "print(\"time :\", time.time() - start)\n"
      ],
      "metadata": {
        "colab": {
          "base_uri": "https://localhost:8080/"
        },
        "id": "cAA3J1DPPpzl",
        "outputId": "4868b88d-0537-4b18-d959-e7e761a5f99f"
      },
      "execution_count": 10,
      "outputs": [
        {
          "output_type": "stream",
          "name": "stdout",
          "text": [
            "train,test : 0.1164,0.1172\n",
            "train,test : 0.7417333333333334,0.7548\n",
            "train,test : 0.84455,0.8529\n",
            "train,test : 0.8723166666666666,0.8829\n",
            "train,test : 0.8846333333333334,0.8956\n",
            "time : 37.0230188369751\n"
          ]
        }
      ]
    },
    {
      "cell_type": "code",
      "source": [
        "import matplotlib.pyplot as plt\n",
        "import numpy as np\n",
        "\n",
        "test=test_acc_list[:5]\n",
        "test2=test_acc_list2[:5]\n",
        "test3=test_acc_list3[:5]\n",
        "x_len = np.arange(len(test))\n",
        "\n",
        "plt.plot(x_len, test, marker='.', c=\"r\", label='batch size = 100')\n",
        "plt.plot(x_len, test2, marker='.', c=\"g\", label='batch size = 50')\n",
        "plt.plot(x_len, test3, marker='.', c=\"b\", label='batch size = 25')\n",
        "plt.title('Batch Size & Acc')\n",
        "plt.legend(loc='lower right')\n",
        "plt.grid()\n",
        "plt.xlabel('epoch')\n",
        "plt.ylabel('Acc')\n",
        "plt.show()"
      ],
      "metadata": {
        "colab": {
          "base_uri": "https://localhost:8080/",
          "height": 295
        },
        "id": "JGKSpeMvSQS8",
        "outputId": "8b6f3589-a1bf-41ee-e73e-227059608077"
      },
      "execution_count": 12,
      "outputs": [
        {
          "output_type": "display_data",
          "data": {
            "text/plain": [
              "<Figure size 432x288 with 1 Axes>"
            ],
            "image/png": "[encoded data removed]"
          },
          "metadata": {
            "needs_background": "light"
          }
        }
      ]
    },
    {
      "cell_type": "code",
      "source": [
        "preds=network.predict(x_test[:10])\n",
        "print(\"y_test = \", t_test[:10])\n",
        "print(\"preds = \", np.argmax(preds[:10],axis=1))"
      ],
      "metadata": {
        "id": "yjqNASSbzh1d"
      },
      "execution_count": null,
      "outputs": []
    },
    {
      "cell_type": "code",
      "source": [
        "test_num1= plt.imread('/number1.png')\n",
        "test_num = test_num1[:,:,0]\n",
        "#test_num = (test_num > 125) * test_num\n",
        "test_num = test_num.astype('float32') / 255.\n",
        "\n",
        "plt.imshow(test_num, cmap='Greys', interpolation='nearest');\n",
        "\n",
        "test_num = test_num.reshape((1,28, 28,1))\n",
        "test_num = network.predict(test_num)\n",
        "test_num=np.argmax(test_num)\n",
        "print('숫자는:  ', test_num)"
      ],
      "metadata": {
        "id": "J1Ak3Ece3rVL"
      },
      "execution_count": null,
      "outputs": []
    },
    {
      "cell_type": "code",
      "source": [
        "import cv2\n",
        "file_name = '/number1.png'\n",
        "image = cv2.imread(file_name,cv2.IMREAD_GRAYSCALE)\n",
        "image2 = np.resize(image, (1, 784))\n",
        "test_data=network.predict(image2)\n",
        "whos_new=np.argmax(test_data)\n",
        "print(\"숫자는\",whos_new,\"입니다.\")\n",
        "plt.imshow(image)\n",
        "plt.show()"
      ],
      "metadata": {
        "id": "VLe1E17GFdX4"
      },
      "execution_count": null,
      "outputs": []
    },
    {
      "cell_type": "code",
      "source": [
        "import cv2\n",
        "file_name = '/number1.png'\n",
        "image = cv2.imread(file_name,cv2.IMREAD_GRAYSCALE)\n",
        "image2 = np.resize(image, (1, 784))\n",
        "test_data = ((np.array(image2) / 255) - 1) * -1\n",
        "test_data=network.predict(test_data)\n",
        "whos_new=np.argmax(test_data)\n",
        "print(\"숫자는\",whos_new,\"입니다.\")\n",
        "plt.imshow(image)\n",
        "plt.show()"
      ],
      "metadata": {
        "id": "FA6kfWWUxChc"
      },
      "execution_count": null,
      "outputs": []
    }
  ]
}