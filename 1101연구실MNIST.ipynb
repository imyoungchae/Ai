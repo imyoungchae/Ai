{
  "nbformat": 4,
  "nbformat_minor": 0,
  "metadata": {
    "colab": {
      "provenance": [],
      "mount_file_id": "1J83ShKSF4Cegm-H_BheQQ1Z2J8EkLWzJ",
      "authorship_tag": "ABX9TyMPxHXzTc+hSVqXhoPrTUL9",
      "include_colab_link": true
    },
    "kernelspec": {
      "name": "python3",
      "display_name": "Python 3"
    },
    "language_info": {
      "name": "python"
    },
    "accelerator": "TPU",
    "gpuClass": "standard"
  },
  "cells": [
    {
      "cell_type": "markdown",
      "metadata": {
        "id": "view-in-github",
        "colab_type": "text"
      },
      "source": [
        "<a href=\"https://colab.research.google.com/github/imyoungchae/Ai/blob/main/1101%EC%97%B0%EA%B5%AC%EC%8B%A4MNIST.ipynb\" target=\"_parent\"><img src=\"https://colab.research.google.com/assets/colab-badge.svg\" alt=\"Open In Colab\"/></a>"
      ]
    },
    {
      "cell_type": "code",
      "source": [
        "import numpy as np\n",
        "import matplotlib.pyplot as plt\n",
        "import time\n",
        "import cv2"
      ],
      "metadata": {
        "id": "7wA_8frbtStD"
      },
      "execution_count": null,
      "outputs": []
    },
    {
      "cell_type": "code",
      "source": [
        "from google.colab import drive\n",
        "drive.mount('/content/gdrive')"
      ],
      "metadata": {
        "colab": {
          "base_uri": "https://localhost:8080/"
        },
        "id": "ET0SLU7y2VUw",
        "outputId": "7f6350cb-b816-4791-fb3b-0094ebe5908e"
      },
      "execution_count": null,
      "outputs": [
        {
          "output_type": "stream",
          "name": "stdout",
          "text": [
            "Mounted at /content/gdrive\n"
          ]
        }
      ]
    },
    {
      "cell_type": "code",
      "source": [
        "import sys, os\n",
        "sys.path.append(\"/content/gdrive/MyDrive/deep-learning-from-scratch-master/deep-learning-from-scratch-master\")"
      ],
      "metadata": {
        "id": "6oMCMRbK2HWf"
      },
      "execution_count": null,
      "outputs": []
    },
    {
      "cell_type": "code",
      "source": [
        "import sys, os\n",
        "sys.path.append(\"/content/gdrive/MyDrive/deep-learning-from-scratch-master/deep-learning-from-scratch-master/dataset\")"
      ],
      "metadata": {
        "id": "3-eepCtI7a9n"
      },
      "execution_count": null,
      "outputs": []
    },
    {
      "cell_type": "code",
      "source": [
        "import sys, os\n",
        "sys.path.append(\"/content/gdrive/MyDrive/deep-learning-from-scratch-master/deep-learning-from-scratch-master/ch05\")"
      ],
      "metadata": {
        "id": "EewS4eSn7SUh"
      },
      "execution_count": null,
      "outputs": []
    },
    {
      "cell_type": "code",
      "source": [
        "import sys, os\n",
        "sys.path.append(\"/content/gdrive/MyDrive/deep-learning-from-scratch-master/deep-learning-from-scratch-master/common\")"
      ],
      "metadata": {
        "id": "7WbK-U9DeKin"
      },
      "execution_count": null,
      "outputs": []
    },
    {
      "cell_type": "code",
      "execution_count": null,
      "metadata": {
        "colab": {
          "base_uri": "https://localhost:8080/"
        },
        "id": "XgkVaw_7oWZu",
        "outputId": "e2a7d553-fb05-4b55-8ef6-120bc6be914e"
      },
      "outputs": [
        {
          "output_type": "stream",
          "name": "stdout",
          "text": [
            "train,test : 0.19456666666666667,0.1942\n",
            "train,test : 0.9294166666666667,0.9267\n",
            "train,test : 0.9507666666666666,0.9479\n",
            "train,test : 0.95815,0.9537\n",
            "train,test : 0.9637,0.9593\n",
            "train,test : 0.9688166666666667,0.9651\n",
            "train,test : 0.9728166666666667,0.9667\n",
            "train,test : 0.9723,0.9671\n",
            "train,test : 0.9772,0.9713\n",
            "train,test : 0.9774,0.9719\n",
            "train,test : 0.98045,0.9728\n",
            "train,test : 0.9827833333333333,0.9738\n",
            "train,test : 0.98335,0.975\n",
            "train,test : 0.9840833333333333,0.9749\n",
            "train,test : 0.9860333333333333,0.9744\n",
            "train,test : 0.9856333333333334,0.9741\n",
            "train,test : 0.9871666666666666,0.9754\n",
            "time : 116.67646265029907\n"
          ]
        }
      ],
      "source": [
        "import numpy as np\n",
        "from dataset.mnist import load_mnist\n",
        "from multi_layer_net import MultiLayerNet\n",
        "import sys\n",
        "import os\n",
        "\n",
        "sys.path.append(\"/content/gdrive/My Drive/Colab Notebooks/deep-learning-from-scratch-master/deep-learning-from-scratch-master\")\n",
        "import numpy as np\n",
        "\n",
        "(x_train,t_train),(x_test,t_test)= load_mnist(normalize=True,one_hot_label=True)\n",
        "\n",
        "train_loss_list = []\n",
        "train_acc_list = []\n",
        "test_acc_list = []\n",
        "\n",
        "iters_num = 10000\n",
        "train_size = x_train.shape[0]\n",
        "batch_size = 100\n",
        "learning_rate = 0.1\n",
        "network = MultiLayerNet(input_size=784, hidden_size_list=[100, 100, 100],output_size=10)\n",
        "\n",
        "iter_per_epoch = max(train_size / batch_size, 1)\n",
        "start = time.time()\n",
        "\n",
        "for i in range(iters_num):\n",
        "    batch_mask = np.random.choice(train_size, batch_size)\n",
        "    x_batch = x_train[batch_mask]\n",
        "    t_batch = t_train[batch_mask]\n",
        "    \n",
        "    grad = network.gradient(x_batch, t_batch)\n",
        "    \n",
        "    for key in ('W1', 'b1', 'W2', 'b2'):\n",
        "        network.params[key] -= learning_rate * grad[key]\n",
        "    \n",
        "    loss = network.loss(x_batch, t_batch)\n",
        "    train_loss_list.append(loss)\n",
        "\n",
        "    if i % iter_per_epoch == 0:\n",
        "        train_acc = network.accuracy(x_train, t_train)\n",
        "        test_acc = network.accuracy(x_test, t_test)\n",
        "        train_acc_list.append(train_acc)\n",
        "        test_acc_list.append(test_acc)\n",
        "        print(\"train,test : \"+str(train_acc)+\",\"+str(test_acc))\n",
        "\n",
        "print(\"time :\", time.time() - start)\n"
      ]
    },
    {
      "cell_type": "code",
      "source": [
        "from matplotlib import pyplot as plt\n",
        "test=test_acc_list\n",
        "train=train_acc_list\n",
        "plt.plot(test)\n",
        "plt.plot(train)\n",
        "plt.legend(['test','train'])"
      ],
      "metadata": {
        "colab": {
          "base_uri": "https://localhost:8080/",
          "height": 282
        },
        "id": "2MnE_yRucNUg",
        "outputId": "e5baa65e-c6b9-4cd4-a511-9f4507ed0f4a"
      },
      "execution_count": null,
      "outputs": [
        {
          "output_type": "execute_result",
          "data": {
            "text/plain": [
              "<matplotlib.legend.Legend at 0x7f358d848210>"
            ]
          },
          "metadata": {},
          "execution_count": 8
        },
        {
          "output_type": "display_data",
          "data": {
            "text/plain": [
              "<Figure size 432x288 with 1 Axes>"
            ],
            "image/png": "[encoded data removed]"
          },
          "metadata": {
            "needs_background": "light"
          }
        }
      ]
    },
    {
      "cell_type": "code",
      "source": [
        "import cv2\n",
        "file_name = 'number1.png'\n",
        "image = cv2.imread(file_name)\n",
        "image2 = np.resize(image, (1, 784))\n",
        "test_data = ((np.array(image2)/ 255) - 1) * -1\n",
        "test_data=network.predict(image2)\n",
        "whos_new=np.argmax(test_data)\n",
        "print(\"숫자는\",whos_new,\"입니다.\")\n",
        "plt.imshow(test_data)\n",
        "plt.show()"
      ],
      "metadata": {
        "colab": {
          "base_uri": "https://localhost:8080/",
          "height": 102
        },
        "id": "gnO4sz8_hUMP",
        "outputId": "5b3d1d08-6494-46b5-d151-1f2f19ec4cf8"
      },
      "execution_count": null,
      "outputs": [
        {
          "output_type": "stream",
          "name": "stdout",
          "text": [
            "숫자는 8 입니다.\n"
          ]
        },
        {
          "output_type": "display_data",
          "data": {
            "text/plain": [
              "<Figure size 432x288 with 1 Axes>"
            ],
            "image/png": "[encoded data removed]"
          },
          "metadata": {
            "needs_background": "light"
          }
        }
      ]
    },
    {
      "cell_type": "code",
      "source": [
        "import cv2\n",
        "file_name = 'number7.png'\n",
        "image = cv2.imread(file_name,cv2.IMREAD_GRAYSCALE)\n",
        "print(\"grey?: \", image.shape)\n",
        "image2 = np.resize(image, (1, 784))\n",
        "test_data = ((np.array(image2) / 255) - 1) * -1\n",
        "print(test_data.shape)\n",
        "test_data=network.predict(test_data)\n",
        "whos_new=np.argmax(test_data)\n",
        "print(\"숫자는\",whos_new,\"입니다.\")\n",
        "plt.imshow(image)\n",
        "plt.show()"
      ],
      "metadata": {
        "id": "FA6kfWWUxChc"
      },
      "execution_count": null,
      "outputs": []
    },
    {
      "cell_type": "code",
      "source": [
        "from matplotlib import pyplot as plt\n",
        "test=test_acc_list\n",
        "train=train_acc_list\n",
        "plt.plot(test)\n",
        "plt.plot(train)\n",
        "plt.legend(['test','train'])\n"
      ],
      "metadata": {
        "id": "0Yk5LZXl_lhY"
      },
      "execution_count": null,
      "outputs": []
    }
  ]
}