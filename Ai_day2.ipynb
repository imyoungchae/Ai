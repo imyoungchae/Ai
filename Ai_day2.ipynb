{
 "cells": [
  {
   "cell_type": "code",
   "execution_count": 61,
   "id": "10b6c954",
   "metadata": {},
   "outputs": [],
   "source": [
    "import os\n",
    "import numpy as np\n",
    "import pandas as pd\n",
    "import matplotlib.pyplot as plt\n",
    "import seaborn as sns\n",
    "%matplotlib inline\n"
   ]
  },
  {
   "cell_type": "code",
   "execution_count": 62,
   "id": "61b60238",
   "metadata": {},
   "outputs": [
    {
     "name": "stderr",
     "output_type": "stream",
     "text": [
      "C:\\Users\\youngchae\\Anaconda3\\envs\\yc\\lib\\site-packages\\sklearn\\utils\\deprecation.py:87: FutureWarning: Function load_boston is deprecated; `load_boston` is deprecated in 1.0 and will be removed in 1.2.\n",
      "\n",
      "    The Boston housing prices dataset has an ethical problem. You can refer to\n",
      "    the documentation of this function for further details.\n",
      "\n",
      "    The scikit-learn maintainers therefore strongly discourage the use of this\n",
      "    dataset unless the purpose of the code is to study and educate about\n",
      "    ethical issues in data science and machine learning.\n",
      "\n",
      "    In this special case, you can fetch the dataset from the original\n",
      "    source::\n",
      "\n",
      "        import pandas as pd\n",
      "        import numpy as np\n",
      "\n",
      "\n",
      "        data_url = \"http://lib.stat.cmu.edu/datasets/boston\"\n",
      "        raw_df = pd.read_csv(data_url, sep=\"\\s+\", skiprows=22, header=None)\n",
      "        data = np.hstack([raw_df.values[::2, :], raw_df.values[1::2, :2]])\n",
      "        target = raw_df.values[1::2, 2]\n",
      "\n",
      "    Alternative datasets include the California housing dataset (i.e.\n",
      "    :func:`~sklearn.datasets.fetch_california_housing`) and the Ames housing\n",
      "    dataset. You can load the datasets as follows::\n",
      "\n",
      "        from sklearn.datasets import fetch_california_housing\n",
      "        housing = fetch_california_housing()\n",
      "\n",
      "    for the California housing dataset and::\n",
      "\n",
      "        from sklearn.datasets import fetch_openml\n",
      "        housing = fetch_openml(name=\"house_prices\", as_frame=True)\n",
      "\n",
      "    for the Ames housing dataset.\n",
      "    \n",
      "  warnings.warn(msg, category=FutureWarning)\n"
     ]
    }
   ],
   "source": [
    "from sklearn.datasets import load_boston\n",
    "boston=load_boston()"
   ]
  },
  {
   "cell_type": "code",
   "execution_count": 63,
   "id": "b7c81cd9",
   "metadata": {},
   "outputs": [
    {
     "data": {
      "text/html": [
       "<div>\n",
       "<style scoped>\n",
       "    .dataframe tbody tr th:only-of-type {\n",
       "        vertical-align: middle;\n",
       "    }\n",
       "\n",
       "    .dataframe tbody tr th {\n",
       "        vertical-align: top;\n",
       "    }\n",
       "\n",
       "    .dataframe thead th {\n",
       "        text-align: right;\n",
       "    }\n",
       "</style>\n",
       "<table border=\"1\" class=\"dataframe\">\n",
       "  <thead>\n",
       "    <tr style=\"text-align: right;\">\n",
       "      <th></th>\n",
       "      <th>CRIM</th>\n",
       "      <th>ZN</th>\n",
       "      <th>INDUS</th>\n",
       "      <th>CHAS</th>\n",
       "      <th>NOX</th>\n",
       "      <th>RM</th>\n",
       "      <th>AGE</th>\n",
       "      <th>DIS</th>\n",
       "      <th>RAD</th>\n",
       "      <th>TAX</th>\n",
       "      <th>PTRATIO</th>\n",
       "      <th>B</th>\n",
       "      <th>LSTAT</th>\n",
       "      <th>Y</th>\n",
       "    </tr>\n",
       "  </thead>\n",
       "  <tbody>\n",
       "    <tr>\n",
       "      <th>0</th>\n",
       "      <td>0.00632</td>\n",
       "      <td>18.0</td>\n",
       "      <td>2.31</td>\n",
       "      <td>0.0</td>\n",
       "      <td>0.538</td>\n",
       "      <td>6.575</td>\n",
       "      <td>65.2</td>\n",
       "      <td>4.0900</td>\n",
       "      <td>1.0</td>\n",
       "      <td>296.0</td>\n",
       "      <td>15.3</td>\n",
       "      <td>396.90</td>\n",
       "      <td>4.98</td>\n",
       "      <td>24.0</td>\n",
       "    </tr>\n",
       "    <tr>\n",
       "      <th>1</th>\n",
       "      <td>0.02731</td>\n",
       "      <td>0.0</td>\n",
       "      <td>7.07</td>\n",
       "      <td>0.0</td>\n",
       "      <td>0.469</td>\n",
       "      <td>6.421</td>\n",
       "      <td>78.9</td>\n",
       "      <td>4.9671</td>\n",
       "      <td>2.0</td>\n",
       "      <td>242.0</td>\n",
       "      <td>17.8</td>\n",
       "      <td>396.90</td>\n",
       "      <td>9.14</td>\n",
       "      <td>21.6</td>\n",
       "    </tr>\n",
       "    <tr>\n",
       "      <th>2</th>\n",
       "      <td>0.02729</td>\n",
       "      <td>0.0</td>\n",
       "      <td>7.07</td>\n",
       "      <td>0.0</td>\n",
       "      <td>0.469</td>\n",
       "      <td>7.185</td>\n",
       "      <td>61.1</td>\n",
       "      <td>4.9671</td>\n",
       "      <td>2.0</td>\n",
       "      <td>242.0</td>\n",
       "      <td>17.8</td>\n",
       "      <td>392.83</td>\n",
       "      <td>4.03</td>\n",
       "      <td>34.7</td>\n",
       "    </tr>\n",
       "    <tr>\n",
       "      <th>3</th>\n",
       "      <td>0.03237</td>\n",
       "      <td>0.0</td>\n",
       "      <td>2.18</td>\n",
       "      <td>0.0</td>\n",
       "      <td>0.458</td>\n",
       "      <td>6.998</td>\n",
       "      <td>45.8</td>\n",
       "      <td>6.0622</td>\n",
       "      <td>3.0</td>\n",
       "      <td>222.0</td>\n",
       "      <td>18.7</td>\n",
       "      <td>394.63</td>\n",
       "      <td>2.94</td>\n",
       "      <td>33.4</td>\n",
       "    </tr>\n",
       "    <tr>\n",
       "      <th>4</th>\n",
       "      <td>0.06905</td>\n",
       "      <td>0.0</td>\n",
       "      <td>2.18</td>\n",
       "      <td>0.0</td>\n",
       "      <td>0.458</td>\n",
       "      <td>7.147</td>\n",
       "      <td>54.2</td>\n",
       "      <td>6.0622</td>\n",
       "      <td>3.0</td>\n",
       "      <td>222.0</td>\n",
       "      <td>18.7</td>\n",
       "      <td>396.90</td>\n",
       "      <td>5.33</td>\n",
       "      <td>36.2</td>\n",
       "    </tr>\n",
       "  </tbody>\n",
       "</table>\n",
       "</div>"
      ],
      "text/plain": [
       "      CRIM    ZN  INDUS  CHAS    NOX     RM   AGE     DIS  RAD    TAX  \\\n",
       "0  0.00632  18.0   2.31   0.0  0.538  6.575  65.2  4.0900  1.0  296.0   \n",
       "1  0.02731   0.0   7.07   0.0  0.469  6.421  78.9  4.9671  2.0  242.0   \n",
       "2  0.02729   0.0   7.07   0.0  0.469  7.185  61.1  4.9671  2.0  242.0   \n",
       "3  0.03237   0.0   2.18   0.0  0.458  6.998  45.8  6.0622  3.0  222.0   \n",
       "4  0.06905   0.0   2.18   0.0  0.458  7.147  54.2  6.0622  3.0  222.0   \n",
       "\n",
       "   PTRATIO       B  LSTAT     Y  \n",
       "0     15.3  396.90   4.98  24.0  \n",
       "1     17.8  396.90   9.14  21.6  \n",
       "2     17.8  392.83   4.03  34.7  \n",
       "3     18.7  394.63   2.94  33.4  \n",
       "4     18.7  396.90   5.33  36.2  "
      ]
     },
     "execution_count": 63,
     "metadata": {},
     "output_type": "execute_result"
    }
   ],
   "source": [
    "X = boston['data']\n",
    "\n",
    "Y = boston['target']\n",
    "\n",
    "X_names = boston['feature_names']\n",
    "\n",
    "total_data = np.concatenate([X,Y.reshape(-1,1)],axis=1)\n",
    "\n",
    "total_feature_names = np.append(X_names,'Y')\n",
    "\n",
    "total_data = pd.DataFrame(total_data,columns = total_feature_names )\n",
    "\n",
    "total_data.head()"
   ]
  },
  {
   "cell_type": "code",
   "execution_count": 64,
   "id": "405937a7",
   "metadata": {},
   "outputs": [],
   "source": [
    "num_temp=round(total_data.shape[0]*0.7)\n",
    "TMEP_X = total_data.iloc[:num_temp,:-1]\n",
    "TEMP_Y = total_data.iloc[:num_temp,-1]"
   ]
  },
  {
   "cell_type": "code",
   "execution_count": 65,
   "id": "07ad1f07",
   "metadata": {},
   "outputs": [],
   "source": [
    "true_num_train = round(TMEP_X.shape[0]*0.7)\n",
    "Train_X = TMEP_X.iloc[:true_num_train,:]\n",
    "Vali_X = TMEP_X.iloc[true_num_train:,:]"
   ]
  },
  {
   "cell_type": "code",
   "execution_count": 66,
   "id": "609b05ee",
   "metadata": {},
   "outputs": [],
   "source": [
    "Train_Y = TEMP_Y.iloc[:true_num_train]\n",
    "Vali_Y = TEMP_Y.iloc[true_num_train:]"
   ]
  },
  {
   "cell_type": "code",
   "execution_count": 67,
   "id": "d1940931",
   "metadata": {},
   "outputs": [],
   "source": [
    "Test_X = total_data.iloc[num_temp:,:-1]\n",
    "Test_Y = total_data.iloc[num_temp:,-1]"
   ]
  },
  {
   "cell_type": "code",
   "execution_count": 81,
   "id": "e501d26d",
   "metadata": {},
   "outputs": [],
   "source": [
    "def MAPE(y_test, y_pred):\n",
    "    return np.mean(np.abs((y_test - y_pred) / y_test))\n",
    "    "
   ]
  },
  {
   "cell_type": "code",
   "execution_count": 82,
   "id": "a0f83b1c",
   "metadata": {},
   "outputs": [],
   "source": [
    "from sklearn.neighbors import KNeighborsRegressor as knn\n",
    "\n",
    "\n",
    "K = [1,3,5,7,9,11]\n",
    "\n",
    "MAPE_SET = []\n",
    "\n",
    "for k in K:\n",
    "    \n",
    "    KNN = knn(n_neighbors=k)\n",
    "    \n",
    "    KNN.fit(Train_X,Train_Y)\n",
    "\n",
    "    val_pred = KNN.predict(Vali_X)\n",
    "\n",
    "    mape_result = MAPE(Vali_Y,val_pred)\n",
    "    \n",
    "    MAPE_SET.append(mape_result)"
   ]
  },
  {
   "cell_type": "code",
   "execution_count": 83,
   "id": "cc2775bc",
   "metadata": {
    "scrolled": true
   },
   "outputs": [],
   "source": [
    "best = np.where(MAPE_SET == min(MAPE_SET))[0][0]"
   ]
  },
  {
   "cell_type": "code",
   "execution_count": 84,
   "id": "b69ab695",
   "metadata": {},
   "outputs": [
    {
     "data": {
      "text/plain": [
       "11"
      ]
     },
     "execution_count": 84,
     "metadata": {},
     "output_type": "execute_result"
    }
   ],
   "source": [
    "K[best]"
   ]
  },
  {
   "cell_type": "code",
   "execution_count": 85,
   "id": "3c5aa4fa",
   "metadata": {},
   "outputs": [],
   "source": [
    "basic_knn = knn()"
   ]
  },
  {
   "cell_type": "code",
   "execution_count": 86,
   "id": "44f0a8c4",
   "metadata": {},
   "outputs": [
    {
     "data": {
      "text/plain": [
       "KNeighborsRegressor()"
      ]
     },
     "execution_count": 86,
     "metadata": {},
     "output_type": "execute_result"
    }
   ],
   "source": [
    "basic_knn.fit(Train_X,Train_Y)"
   ]
  },
  {
   "cell_type": "code",
   "execution_count": 74,
   "id": "bba2e253",
   "metadata": {},
   "outputs": [],
   "source": [
    "test_pred_basic = basic_knn.predict(Test_X)"
   ]
  },
  {
   "cell_type": "code",
   "execution_count": 87,
   "id": "702b7309",
   "metadata": {},
   "outputs": [],
   "source": [
    "best_k = K[best]"
   ]
  },
  {
   "cell_type": "code",
   "execution_count": 88,
   "id": "3750208b",
   "metadata": {},
   "outputs": [],
   "source": [
    "best_knn = knn(n_neighbors=best_k)"
   ]
  },
  {
   "cell_type": "code",
   "execution_count": 89,
   "id": "3dbfab1b",
   "metadata": {},
   "outputs": [
    {
     "data": {
      "text/plain": [
       "KNeighborsRegressor(n_neighbors=11)"
      ]
     },
     "execution_count": 89,
     "metadata": {},
     "output_type": "execute_result"
    }
   ],
   "source": [
    "best_knn.fit(Train_X,Train_Y)"
   ]
  },
  {
   "cell_type": "code",
   "execution_count": 90,
   "id": "8d74e078",
   "metadata": {},
   "outputs": [],
   "source": [
    "test_pred = best_knn.predict(Test_X)"
   ]
  },
  {
   "cell_type": "code",
   "execution_count": 91,
   "id": "c8f97bd7",
   "metadata": {},
   "outputs": [
    {
     "data": {
      "text/plain": [
       "0.447317027292802"
      ]
     },
     "execution_count": 91,
     "metadata": {},
     "output_type": "execute_result"
    }
   ],
   "source": [
    "MAPE(Test_Y,test_pred)"
   ]
  },
  {
   "cell_type": "code",
   "execution_count": 92,
   "id": "3d12e65d",
   "metadata": {},
   "outputs": [
    {
     "data": {
      "text/plain": [
       "0.3999301690771256"
      ]
     },
     "execution_count": 92,
     "metadata": {},
     "output_type": "execute_result"
    }
   ],
   "source": [
    "MAPE(Test_Y,test_pred_basic)"
   ]
  },
  {
   "cell_type": "code",
   "execution_count": 93,
   "id": "db8d3a10",
   "metadata": {},
   "outputs": [],
   "source": [
    "from sklearn.neighbors import KNeighborsRegressor as knn"
   ]
  },
  {
   "cell_type": "code",
   "execution_count": 94,
   "id": "c47aa47b",
   "metadata": {},
   "outputs": [],
   "source": [
    "KNN = knn(n_neighbors=5)\n",
    "KNN2 = knn(n_neighbors=10)"
   ]
  },
  {
   "cell_type": "code",
   "execution_count": 95,
   "id": "acff0e83",
   "metadata": {},
   "outputs": [
    {
     "data": {
      "text/plain": [
       "KNeighborsRegressor(n_neighbors=10)"
      ]
     },
     "execution_count": 95,
     "metadata": {},
     "output_type": "execute_result"
    }
   ],
   "source": [
    "KNN.fit(Train_X,Train_Y)\n",
    "KNN2.fit(Train_X,Train_Y)"
   ]
  },
  {
   "cell_type": "code",
   "execution_count": 96,
   "id": "11fee981",
   "metadata": {},
   "outputs": [],
   "source": [
    "pred1 = KNN.predict(Test_X)\n",
    "pred2 = KNN2.predict(Test_X)"
   ]
  },
  {
   "cell_type": "code",
   "execution_count": 97,
   "id": "a3a63d5e",
   "metadata": {},
   "outputs": [],
   "source": [
    "Train_pred1 = KNN.predict(Train_X)\n",
    "Train_pred2 = KNN2.predict(Train_X)"
   ]
  },
  {
   "cell_type": "code",
   "execution_count": 98,
   "id": "6c90ba27",
   "metadata": {},
   "outputs": [],
   "source": [
    "from sklearn.metrics import mean_absolute_percentage_error as MAPE"
   ]
  },
  {
   "cell_type": "code",
   "execution_count": 99,
   "id": "1df2fb60",
   "metadata": {},
   "outputs": [
    {
     "name": "stdout",
     "output_type": "stream",
     "text": [
      "39.99301690771256\n",
      "43.62880550991671\n"
     ]
    }
   ],
   "source": [
    "print(MAPE(Test_Y, pred1)*100)\n",
    "print(MAPE(Test_Y, pred2)*100)"
   ]
  },
  {
   "cell_type": "code",
   "execution_count": 100,
   "id": "27a89870",
   "metadata": {},
   "outputs": [
    {
     "name": "stdout",
     "output_type": "stream",
     "text": [
      "13.184938358191964\n",
      "17.35371376806372\n"
     ]
    }
   ],
   "source": [
    "print(MAPE(Train_Y, Train_pred1)*100)\n",
    "print(MAPE(Train_Y, Train_pred2)*100)"
   ]
  }
 ],
 "metadata": {
  "kernelspec": {
   "display_name": "yc",
   "language": "python",
   "name": "yc"
  },
  "language_info": {
   "codemirror_mode": {
    "name": "ipython",
    "version": 3
   },
   "file_extension": ".py",
   "mimetype": "text/x-python",
   "name": "python",
   "nbconvert_exporter": "python",
   "pygments_lexer": "ipython3",
   "version": "3.10.0"
  }
 },
 "nbformat": 4,
 "nbformat_minor": 5
}
